{
 "cells": [
  {
   "cell_type": "code",
   "execution_count": 1,
   "metadata": {},
   "outputs": [
    {
     "data": {
      "text/plain": [
       "'c:\\\\Users\\\\ethan\\\\coding_projects\\\\trilogy-public-models\\\\local_examples'"
      ]
     },
     "execution_count": 1,
     "metadata": {},
     "output_type": "execute_result"
    }
   ],
   "source": [
    "import os\n",
    "nb_path = os.path.abspath(\"\")\n",
    "from sys import path\n",
    "from os.path import dirname\n",
    "\n",
    "path.insert(0,  dirname(nb_path))\n",
    "\n",
    "nb_path"
   ]
  },
  {
   "cell_type": "code",
   "execution_count": 2,
   "metadata": {},
   "outputs": [],
   "source": [
    "from preql import Dialects\n",
    "from trilogy_public_models import models\n",
    "env = models[\"bigquery.new_york_citibike\"]\n",
    "\n",
    "executor = Dialects.BIGQUERY.default_executor(environment=env)"
   ]
  },
  {
   "cell_type": "code",
   "execution_count": 3,
   "metadata": {},
   "outputs": [
    {
     "ename": "UndefinedConceptException",
     "evalue": "(UndefinedConceptException(...), 'Undefined concept: yearly_trips.')",
     "output_type": "error",
     "traceback": [
      "\u001b[1;31m---------------------------------------------------------------------------\u001b[0m",
      "\u001b[1;31mVisitError\u001b[0m                                Traceback (most recent call last)",
      "File \u001b[1;32mc:\\Users\\ethan\\coding_projects\\trilogy-public-models\\.venv\\Lib\\site-packages\\preql\\parsing\\parse_engine.py:1903\u001b[0m, in \u001b[0;36mparse_text\u001b[1;34m(text, environment)\u001b[0m\n\u001b[0;32m   1902\u001b[0m \u001b[38;5;28;01mtry\u001b[39;00m:\n\u001b[1;32m-> 1903\u001b[0m     \u001b[43mparser\u001b[49m\u001b[38;5;241;43m.\u001b[39;49m\u001b[43mtransform\u001b[49m\u001b[43m(\u001b[49m\u001b[43mPARSER\u001b[49m\u001b[38;5;241;43m.\u001b[39;49m\u001b[43mparse\u001b[49m\u001b[43m(\u001b[49m\u001b[43mtext\u001b[49m\u001b[43m)\u001b[49m\u001b[43m)\u001b[49m\n\u001b[0;32m   1904\u001b[0m     \u001b[38;5;66;03m# handle circular dependencies\u001b[39;00m\n",
      "File \u001b[1;32mc:\\Users\\ethan\\coding_projects\\trilogy-public-models\\.venv\\Lib\\site-packages\\lark\\visitors.py:161\u001b[0m, in \u001b[0;36mTransformer.transform\u001b[1;34m(self, tree)\u001b[0m\n\u001b[0;32m    160\u001b[0m \u001b[38;5;124m\"\u001b[39m\u001b[38;5;124mTransform the given tree, and return the final result\u001b[39m\u001b[38;5;124m\"\u001b[39m\n\u001b[1;32m--> 161\u001b[0m \u001b[38;5;28;01mreturn\u001b[39;00m \u001b[38;5;28;43mself\u001b[39;49m\u001b[38;5;241;43m.\u001b[39;49m\u001b[43m_transform_tree\u001b[49m\u001b[43m(\u001b[49m\u001b[43mtree\u001b[49m\u001b[43m)\u001b[49m\n",
      "File \u001b[1;32mc:\\Users\\ethan\\coding_projects\\trilogy-public-models\\.venv\\Lib\\site-packages\\lark\\visitors.py:156\u001b[0m, in \u001b[0;36mTransformer._transform_tree\u001b[1;34m(self, tree)\u001b[0m\n\u001b[0;32m    155\u001b[0m \u001b[38;5;28;01mdef\u001b[39;00m \u001b[38;5;21m_transform_tree\u001b[39m(\u001b[38;5;28mself\u001b[39m, tree):\n\u001b[1;32m--> 156\u001b[0m     children \u001b[38;5;241m=\u001b[39m \u001b[38;5;28mlist\u001b[39m(\u001b[38;5;28mself\u001b[39m\u001b[38;5;241m.\u001b[39m_transform_children(tree\u001b[38;5;241m.\u001b[39mchildren))\n\u001b[0;32m    157\u001b[0m     \u001b[38;5;28;01mreturn\u001b[39;00m \u001b[38;5;28mself\u001b[39m\u001b[38;5;241m.\u001b[39m_call_userfunc(tree, children)\n",
      "File \u001b[1;32mc:\\Users\\ethan\\coding_projects\\trilogy-public-models\\.venv\\Lib\\site-packages\\lark\\visitors.py:146\u001b[0m, in \u001b[0;36mTransformer._transform_children\u001b[1;34m(self, children)\u001b[0m\n\u001b[0;32m    145\u001b[0m \u001b[38;5;28;01mif\u001b[39;00m \u001b[38;5;28misinstance\u001b[39m(c, Tree):\n\u001b[1;32m--> 146\u001b[0m     res \u001b[38;5;241m=\u001b[39m \u001b[38;5;28;43mself\u001b[39;49m\u001b[38;5;241;43m.\u001b[39;49m\u001b[43m_transform_tree\u001b[49m\u001b[43m(\u001b[49m\u001b[43mc\u001b[49m\u001b[43m)\u001b[49m\n\u001b[0;32m    147\u001b[0m \u001b[38;5;28;01melif\u001b[39;00m \u001b[38;5;28mself\u001b[39m\u001b[38;5;241m.\u001b[39m__visit_tokens__ \u001b[38;5;129;01mand\u001b[39;00m \u001b[38;5;28misinstance\u001b[39m(c, Token):\n",
      "File \u001b[1;32mc:\\Users\\ethan\\coding_projects\\trilogy-public-models\\.venv\\Lib\\site-packages\\lark\\visitors.py:156\u001b[0m, in \u001b[0;36mTransformer._transform_tree\u001b[1;34m(self, tree)\u001b[0m\n\u001b[0;32m    155\u001b[0m \u001b[38;5;28;01mdef\u001b[39;00m \u001b[38;5;21m_transform_tree\u001b[39m(\u001b[38;5;28mself\u001b[39m, tree):\n\u001b[1;32m--> 156\u001b[0m     children \u001b[38;5;241m=\u001b[39m \u001b[38;5;28mlist\u001b[39m(\u001b[38;5;28mself\u001b[39m\u001b[38;5;241m.\u001b[39m_transform_children(tree\u001b[38;5;241m.\u001b[39mchildren))\n\u001b[0;32m    157\u001b[0m     \u001b[38;5;28;01mreturn\u001b[39;00m \u001b[38;5;28mself\u001b[39m\u001b[38;5;241m.\u001b[39m_call_userfunc(tree, children)\n",
      "File \u001b[1;32mc:\\Users\\ethan\\coding_projects\\trilogy-public-models\\.venv\\Lib\\site-packages\\lark\\visitors.py:146\u001b[0m, in \u001b[0;36mTransformer._transform_children\u001b[1;34m(self, children)\u001b[0m\n\u001b[0;32m    145\u001b[0m \u001b[38;5;28;01mif\u001b[39;00m \u001b[38;5;28misinstance\u001b[39m(c, Tree):\n\u001b[1;32m--> 146\u001b[0m     res \u001b[38;5;241m=\u001b[39m \u001b[38;5;28;43mself\u001b[39;49m\u001b[38;5;241;43m.\u001b[39;49m\u001b[43m_transform_tree\u001b[49m\u001b[43m(\u001b[49m\u001b[43mc\u001b[49m\u001b[43m)\u001b[49m\n\u001b[0;32m    147\u001b[0m \u001b[38;5;28;01melif\u001b[39;00m \u001b[38;5;28mself\u001b[39m\u001b[38;5;241m.\u001b[39m__visit_tokens__ \u001b[38;5;129;01mand\u001b[39;00m \u001b[38;5;28misinstance\u001b[39m(c, Token):\n",
      "    \u001b[1;31m[... skipping similar frames: Transformer._transform_children at line 146 (2 times), Transformer._transform_tree at line 156 (2 times)]\u001b[0m\n",
      "File \u001b[1;32mc:\\Users\\ethan\\coding_projects\\trilogy-public-models\\.venv\\Lib\\site-packages\\lark\\visitors.py:156\u001b[0m, in \u001b[0;36mTransformer._transform_tree\u001b[1;34m(self, tree)\u001b[0m\n\u001b[0;32m    155\u001b[0m \u001b[38;5;28;01mdef\u001b[39;00m \u001b[38;5;21m_transform_tree\u001b[39m(\u001b[38;5;28mself\u001b[39m, tree):\n\u001b[1;32m--> 156\u001b[0m     children \u001b[38;5;241m=\u001b[39m \u001b[38;5;28mlist\u001b[39m(\u001b[38;5;28mself\u001b[39m\u001b[38;5;241m.\u001b[39m_transform_children(tree\u001b[38;5;241m.\u001b[39mchildren))\n\u001b[0;32m    157\u001b[0m     \u001b[38;5;28;01mreturn\u001b[39;00m \u001b[38;5;28mself\u001b[39m\u001b[38;5;241m.\u001b[39m_call_userfunc(tree, children)\n",
      "File \u001b[1;32mc:\\Users\\ethan\\coding_projects\\trilogy-public-models\\.venv\\Lib\\site-packages\\lark\\visitors.py:146\u001b[0m, in \u001b[0;36mTransformer._transform_children\u001b[1;34m(self, children)\u001b[0m\n\u001b[0;32m    145\u001b[0m \u001b[38;5;28;01mif\u001b[39;00m \u001b[38;5;28misinstance\u001b[39m(c, Tree):\n\u001b[1;32m--> 146\u001b[0m     res \u001b[38;5;241m=\u001b[39m \u001b[38;5;28;43mself\u001b[39;49m\u001b[38;5;241;43m.\u001b[39;49m\u001b[43m_transform_tree\u001b[49m\u001b[43m(\u001b[49m\u001b[43mc\u001b[49m\u001b[43m)\u001b[49m\n\u001b[0;32m    147\u001b[0m \u001b[38;5;28;01melif\u001b[39;00m \u001b[38;5;28mself\u001b[39m\u001b[38;5;241m.\u001b[39m__visit_tokens__ \u001b[38;5;129;01mand\u001b[39;00m \u001b[38;5;28misinstance\u001b[39m(c, Token):\n",
      "File \u001b[1;32mc:\\Users\\ethan\\coding_projects\\trilogy-public-models\\.venv\\Lib\\site-packages\\lark\\visitors.py:157\u001b[0m, in \u001b[0;36mTransformer._transform_tree\u001b[1;34m(self, tree)\u001b[0m\n\u001b[0;32m    156\u001b[0m children \u001b[38;5;241m=\u001b[39m \u001b[38;5;28mlist\u001b[39m(\u001b[38;5;28mself\u001b[39m\u001b[38;5;241m.\u001b[39m_transform_children(tree\u001b[38;5;241m.\u001b[39mchildren))\n\u001b[1;32m--> 157\u001b[0m \u001b[38;5;28;01mreturn\u001b[39;00m \u001b[38;5;28;43mself\u001b[39;49m\u001b[38;5;241;43m.\u001b[39;49m\u001b[43m_call_userfunc\u001b[49m\u001b[43m(\u001b[49m\u001b[43mtree\u001b[49m\u001b[43m,\u001b[49m\u001b[43m \u001b[49m\u001b[43mchildren\u001b[49m\u001b[43m)\u001b[49m\n",
      "File \u001b[1;32mc:\\Users\\ethan\\coding_projects\\trilogy-public-models\\.venv\\Lib\\site-packages\\lark\\visitors.py:128\u001b[0m, in \u001b[0;36mTransformer._call_userfunc\u001b[1;34m(self, tree, new_children)\u001b[0m\n\u001b[0;32m    127\u001b[0m \u001b[38;5;28;01mexcept\u001b[39;00m \u001b[38;5;167;01mException\u001b[39;00m \u001b[38;5;28;01mas\u001b[39;00m e:\n\u001b[1;32m--> 128\u001b[0m     \u001b[38;5;28;01mraise\u001b[39;00m VisitError(tree\u001b[38;5;241m.\u001b[39mdata, tree, e)\n",
      "\u001b[1;31mVisitError\u001b[0m: Error trying to process rule \"window_item\":\n\n(UndefinedConceptException(...), 'Undefined concept: yearly_trips.')",
      "\nDuring handling of the above exception, another exception occurred:\n",
      "\u001b[1;31mUndefinedConceptException\u001b[0m                 Traceback (most recent call last)",
      "Cell \u001b[1;32mIn[3], line 17\u001b[0m\n\u001b[0;32m      1\u001b[0m QA_3 \u001b[38;5;241m=\u001b[39m \u001b[38;5;124m\"\"\"\u001b[39m\n\u001b[0;32m      2\u001b[0m \n\u001b[0;32m      3\u001b[0m \u001b[38;5;124mauto lagging_yearly_trips <- lag yearly_trips by trip.year asc;\u001b[39m\n\u001b[1;32m   (...)\u001b[0m\n\u001b[0;32m     14\u001b[0m \u001b[38;5;124m    trip.year asc;\u001b[39m\n\u001b[0;32m     15\u001b[0m \u001b[38;5;124m\"\"\"\u001b[39m\n\u001b[1;32m---> 17\u001b[0m results \u001b[38;5;241m=\u001b[39m \u001b[43mexecutor\u001b[49m\u001b[38;5;241;43m.\u001b[39;49m\u001b[43mexecute_text\u001b[49m\u001b[43m(\u001b[49m\u001b[43mQA_3\u001b[49m\u001b[43m)\u001b[49m\n",
      "File \u001b[1;32mc:\\Users\\ethan\\coding_projects\\trilogy-public-models\\.venv\\Lib\\site-packages\\preql\\executor.py:182\u001b[0m, in \u001b[0;36mExecutor.execute_text\u001b[1;34m(self, command)\u001b[0m\n\u001b[0;32m    180\u001b[0m \u001b[38;5;28;01mdef\u001b[39;00m \u001b[38;5;21mexecute_text\u001b[39m(\u001b[38;5;28mself\u001b[39m, command: \u001b[38;5;28mstr\u001b[39m) \u001b[38;5;241m-\u001b[39m\u001b[38;5;241m>\u001b[39m List[CursorResult]:\n\u001b[0;32m    181\u001b[0m \u001b[38;5;250m    \u001b[39m\u001b[38;5;124;03m\"\"\"Run a preql text command\"\"\"\u001b[39;00m\n\u001b[1;32m--> 182\u001b[0m     sql \u001b[38;5;241m=\u001b[39m \u001b[38;5;28;43mself\u001b[39;49m\u001b[38;5;241;43m.\u001b[39;49m\u001b[43mparse_text\u001b[49m\u001b[43m(\u001b[49m\u001b[43mcommand\u001b[49m\u001b[43m)\u001b[49m\n\u001b[0;32m    183\u001b[0m     output \u001b[38;5;241m=\u001b[39m []\n\u001b[0;32m    184\u001b[0m     \u001b[38;5;66;03m# connection = self.engine.connect()\u001b[39;00m\n",
      "File \u001b[1;32mc:\\Users\\ethan\\coding_projects\\trilogy-public-models\\.venv\\Lib\\site-packages\\preql\\executor.py:160\u001b[0m, in \u001b[0;36mExecutor.parse_text\u001b[1;34m(self, command, persist)\u001b[0m\n\u001b[0;32m    156\u001b[0m \u001b[38;5;28;01mdef\u001b[39;00m \u001b[38;5;21mparse_text\u001b[39m(\n\u001b[0;32m    157\u001b[0m     \u001b[38;5;28mself\u001b[39m, command: \u001b[38;5;28mstr\u001b[39m, persist: \u001b[38;5;28mbool\u001b[39m \u001b[38;5;241m=\u001b[39m \u001b[38;5;28;01mFalse\u001b[39;00m\n\u001b[0;32m    158\u001b[0m ) \u001b[38;5;241m-\u001b[39m\u001b[38;5;241m>\u001b[39m List[ProcessedQuery \u001b[38;5;241m|\u001b[39m ProcessedQueryPersist \u001b[38;5;241m|\u001b[39m ProcessedShowStatement]:\n\u001b[0;32m    159\u001b[0m \u001b[38;5;250m    \u001b[39m\u001b[38;5;124;03m\"\"\"Process a preql text command\"\"\"\u001b[39;00m\n\u001b[1;32m--> 160\u001b[0m     _, parsed \u001b[38;5;241m=\u001b[39m \u001b[43mparse_text\u001b[49m\u001b[43m(\u001b[49m\u001b[43mcommand\u001b[49m\u001b[43m,\u001b[49m\u001b[43m \u001b[49m\u001b[38;5;28;43mself\u001b[39;49m\u001b[38;5;241;43m.\u001b[39;49m\u001b[43menvironment\u001b[49m\u001b[43m)\u001b[49m\n\u001b[0;32m    161\u001b[0m     generatable \u001b[38;5;241m=\u001b[39m [\n\u001b[0;32m    162\u001b[0m         x \u001b[38;5;28;01mfor\u001b[39;00m x \u001b[38;5;129;01min\u001b[39;00m parsed \u001b[38;5;28;01mif\u001b[39;00m \u001b[38;5;28misinstance\u001b[39m(x, (Select, Persist, ShowStatement))\n\u001b[0;32m    163\u001b[0m     ]\n\u001b[0;32m    164\u001b[0m     sql \u001b[38;5;241m=\u001b[39m []\n",
      "File \u001b[1;32mc:\\Users\\ethan\\coding_projects\\trilogy-public-models\\.venv\\Lib\\site-packages\\preql\\parsing\\parse_engine.py:1908\u001b[0m, in \u001b[0;36mparse_text\u001b[1;34m(text, environment)\u001b[0m\n\u001b[0;32m   1906\u001b[0m     output \u001b[38;5;241m=\u001b[39m [v \u001b[38;5;28;01mfor\u001b[39;00m v \u001b[38;5;129;01min\u001b[39;00m pass_two \u001b[38;5;28;01mif\u001b[39;00m v]\n\u001b[0;32m   1907\u001b[0m \u001b[38;5;28;01mexcept\u001b[39;00m VisitError \u001b[38;5;28;01mas\u001b[39;00m e:\n\u001b[1;32m-> 1908\u001b[0m     \u001b[43munpack_visit_error\u001b[49m\u001b[43m(\u001b[49m\u001b[43me\u001b[49m\u001b[43m)\u001b[49m\n\u001b[0;32m   1909\u001b[0m     \u001b[38;5;66;03m# this will never be reached\u001b[39;00m\n\u001b[0;32m   1910\u001b[0m     \u001b[38;5;28;01mraise\u001b[39;00m e\n",
      "File \u001b[1;32mc:\\Users\\ethan\\coding_projects\\trilogy-public-models\\.venv\\Lib\\site-packages\\preql\\parsing\\parse_engine.py:1888\u001b[0m, in \u001b[0;36munpack_visit_error\u001b[1;34m(e)\u001b[0m\n\u001b[0;32m   1886\u001b[0m     unpack_visit_error(e\u001b[38;5;241m.\u001b[39morig_exc)\n\u001b[0;32m   1887\u001b[0m \u001b[38;5;28;01melif\u001b[39;00m \u001b[38;5;28misinstance\u001b[39m(e\u001b[38;5;241m.\u001b[39morig_exc, (UndefinedConceptException, \u001b[38;5;167;01mImportError\u001b[39;00m)):\n\u001b[1;32m-> 1888\u001b[0m     \u001b[38;5;28;01mraise\u001b[39;00m e\u001b[38;5;241m.\u001b[39morig_exc\n\u001b[0;32m   1889\u001b[0m \u001b[38;5;28;01melif\u001b[39;00m \u001b[38;5;28misinstance\u001b[39m(e\u001b[38;5;241m.\u001b[39morig_exc, (ValidationError, \u001b[38;5;167;01mTypeError\u001b[39;00m)):\n\u001b[0;32m   1890\u001b[0m     \u001b[38;5;28;01mraise\u001b[39;00m InvalidSyntaxException(\u001b[38;5;28mstr\u001b[39m(e\u001b[38;5;241m.\u001b[39morig_exc))\n",
      "File \u001b[1;32mc:\\Users\\ethan\\coding_projects\\trilogy-public-models\\.venv\\Lib\\site-packages\\lark\\visitors.py:124\u001b[0m, in \u001b[0;36mTransformer._call_userfunc\u001b[1;34m(self, tree, new_children)\u001b[0m\n\u001b[0;32m    122\u001b[0m         \u001b[38;5;28;01mreturn\u001b[39;00m f\u001b[38;5;241m.\u001b[39mvisit_wrapper(f, tree\u001b[38;5;241m.\u001b[39mdata, children, tree\u001b[38;5;241m.\u001b[39mmeta)\n\u001b[0;32m    123\u001b[0m     \u001b[38;5;28;01melse\u001b[39;00m:\n\u001b[1;32m--> 124\u001b[0m         \u001b[38;5;28;01mreturn\u001b[39;00m \u001b[43mf\u001b[49m\u001b[43m(\u001b[49m\u001b[43mchildren\u001b[49m\u001b[43m)\u001b[49m\n\u001b[0;32m    125\u001b[0m \u001b[38;5;28;01mexcept\u001b[39;00m GrammarError:\n\u001b[0;32m    126\u001b[0m     \u001b[38;5;28;01mraise\u001b[39;00m\n",
      "File \u001b[1;32mc:\\Users\\ethan\\coding_projects\\trilogy-public-models\\.venv\\Lib\\site-packages\\preql\\parsing\\parse_engine.py:1273\u001b[0m, in \u001b[0;36mParseToObjects.window_item\u001b[1;34m(self, args)\u001b[0m\n\u001b[0;32m   1271\u001b[0m     \u001b[38;5;28;01melif\u001b[39;00m \u001b[38;5;28misinstance\u001b[39m(item, WindowItemOver):\n\u001b[0;32m   1272\u001b[0m         over \u001b[38;5;241m=\u001b[39m item\u001b[38;5;241m.\u001b[39mcontents\n\u001b[1;32m-> 1273\u001b[0m concept \u001b[38;5;241m=\u001b[39m \u001b[38;5;28;43mself\u001b[39;49m\u001b[38;5;241;43m.\u001b[39;49m\u001b[43menvironment\u001b[49m\u001b[38;5;241;43m.\u001b[39;49m\u001b[43mconcepts\u001b[49m\u001b[43m[\u001b[49m\u001b[43margs\u001b[49m\u001b[43m[\u001b[49m\u001b[38;5;241;43m1\u001b[39;49m\u001b[43m]\u001b[49m\u001b[43m]\u001b[49m\n\u001b[0;32m   1274\u001b[0m \u001b[38;5;28;01mreturn\u001b[39;00m WindowItem(\u001b[38;5;28mtype\u001b[39m\u001b[38;5;241m=\u001b[39m\u001b[38;5;28mtype\u001b[39m, content\u001b[38;5;241m=\u001b[39mconcept, over\u001b[38;5;241m=\u001b[39mover, order_by\u001b[38;5;241m=\u001b[39morder_by)\n",
      "File \u001b[1;32mc:\\Users\\ethan\\coding_projects\\trilogy-public-models\\.venv\\Lib\\site-packages\\preql\\core\\models.py:1851\u001b[0m, in \u001b[0;36mEnvironmentConceptDict.__getitem__\u001b[1;34m(self, key, line_no)\u001b[0m\n\u001b[0;32m   1849\u001b[0m \u001b[38;5;28;01mif\u001b[39;00m line_no:\n\u001b[0;32m   1850\u001b[0m     \u001b[38;5;28;01mraise\u001b[39;00m UndefinedConceptException(\u001b[38;5;124mf\u001b[39m\u001b[38;5;124m\"\u001b[39m\u001b[38;5;124mline: \u001b[39m\u001b[38;5;132;01m{\u001b[39;00mline_no\u001b[38;5;132;01m}\u001b[39;00m\u001b[38;5;124m: \u001b[39m\u001b[38;5;124m\"\u001b[39m \u001b[38;5;241m+\u001b[39m message, matches)\n\u001b[1;32m-> 1851\u001b[0m \u001b[38;5;28;01mraise\u001b[39;00m UndefinedConceptException(message, matches)\n",
      "\u001b[1;31mUndefinedConceptException\u001b[0m: (UndefinedConceptException(...), 'Undefined concept: yearly_trips.')"
     ]
    }
   ],
   "source": [
    "QA_3 = \"\"\"\n",
    "\n",
    "auto yearly_trips <- count(trip.start_time) by trip.year;\n",
    "auto lagging_yearly_trips <- lag yearly_trips by trip.year asc;\n",
    "auto yoy_trip_growth <- yearly_trips - lagging_yearly_trips;\n",
    "auto yoy_growth_ratio <- round(yoy_trip_growth / lagging_yearly_trips * 100 ,2);\n",
    "\n",
    "select\n",
    "    trip.year,\n",
    "    yearly_trips,\n",
    "    lagging_yearly_trips,\n",
    "    yoy_trip_growth,\n",
    "    yoy_growth_ratio\n",
    "order by \n",
    "    trip.year asc;\n",
    "\"\"\"\n",
    "\n",
    "results = executor.execute_text(QA_3)"
   ]
  }
 ],
 "metadata": {
  "kernelspec": {
   "display_name": ".venv",
   "language": "python",
   "name": "python3"
  },
  "language_info": {
   "codemirror_mode": {
    "name": "ipython",
    "version": 3
   },
   "file_extension": ".py",
   "mimetype": "text/x-python",
   "name": "python",
   "nbconvert_exporter": "python",
   "pygments_lexer": "ipython3",
   "version": "3.11.3"
  }
 },
 "nbformat": 4,
 "nbformat_minor": 2
}
