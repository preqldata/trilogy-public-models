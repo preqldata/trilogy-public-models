{
 "cells": [
  {
   "cell_type": "code",
   "execution_count": 1,
   "metadata": {},
   "outputs": [
    {
     "data": {
      "text/plain": [
       "'c:\\\\Users\\\\ethan\\\\coding_projects\\\\trilogy-public-models\\\\local_examples'"
      ]
     },
     "execution_count": 1,
     "metadata": {},
     "output_type": "execute_result"
    }
   ],
   "source": [
    "import os\n",
    "nb_path = os.path.abspath(\"\")\n",
    "from sys import path\n",
    "from os.path import dirname\n",
    "\n",
    "path.insert(0,  dirname(nb_path))\n",
    "\n",
    "nb_path"
   ]
  },
  {
   "cell_type": "code",
   "execution_count": 2,
   "metadata": {},
   "outputs": [],
   "source": [
    "from preql import Dialects\n",
    "from trilogy_public_models import models\n",
    "env = models[\"bigquery.thelook_ecommerce\"]\n",
    "\n",
    "executor = Dialects.BIGQUERY.default_executor(environment=env)"
   ]
  },
  {
   "cell_type": "code",
   "execution_count": 4,
   "metadata": {},
   "outputs": [],
   "source": [
    "QA_3 = \"\"\"\n",
    "\n",
    "key cancelled_orders <- filter orders.id where orders.status = 'Cancelled';\n",
    "auto orders.id.cancelled_count <- count(cancelled_orders);\n",
    "\n",
    "SELECT\n",
    "    orders.users.city,\n",
    "    orders.id.cancelled_count / orders.id.count -> cancellation_rate,\n",
    "    orders.id.cancelled_count,\n",
    "    orders.id.count,\n",
    "    orders.created_at.year,\n",
    "WHERE\n",
    "    (orders.created_at.year = 2020)\n",
    "    and orders.id.count>10\n",
    "ORDER BY\n",
    "    cancellation_rate desc;\n",
    "\"\"\"\n",
    "\n",
    "results = executor.execute_text(QA_3)\n"
   ]
  },
  {
   "cell_type": "code",
   "execution_count": 5,
   "metadata": {},
   "outputs": [
    {
     "name": "stdout",
     "output_type": "stream",
     "text": [
      "('Cancelled', 27352)\n",
      "('Complete', 45121)\n",
      "('Shipped', 54127)\n",
      "('Processing', 36160)\n",
      "('Returned', 18056)\n"
     ]
    }
   ],
   "source": [
    "QA_3 = \"\"\"\n",
    "SELECT \n",
    "    order_items.status,\n",
    "    count(order_items.status)->count\n",
    ";\n",
    "\"\"\"\n",
    "\n",
    "results = executor.execute_text(QA_3)\n",
    "for row in results[0]:\n",
    "    print(row)\n"
   ]
  },
  {
   "cell_type": "code",
   "execution_count": 13,
   "metadata": {},
   "outputs": [
    {
     "ename": "DatabaseError",
     "evalue": "(google.cloud.bigquery.dbapi.exceptions.DatabaseError) 200 Job execution was cancelled: User requested cancellation\n\nLocation: US\nJob ID: 1e0f701c-00ac-4b7b-b703-93993f6020f4\n\n[SQL: \nWITH \ncivet as (\nSELECT\n    order_items_orders_orders.`created_at` as `order_items_orders_created_at`,\n    order_items_orders_orders.`order_id` as `order_items_orders_id`,\n    order_items_orders_orders.`num_of_item` as `order_items_orders_item_count`\nFROM\n    bigquery-public-data.thelook_ecommerce.orders as order_items_orders_orders\n),\ncharming as (\nSELECT\n    EXTRACT(MONTH from civet.`order_items_orders_created_at`) as `order_items_orders_created_at_month`\nFROM\n    civet as civet\n),\nabundant as (\nSELECT\n    order_items_order_items.`sale_price` as `order_items_sale_price`,\n    order_items_order_items.`order_id` as `order_items_orders_id`,\n    order_items_order_items.`status` as `order_items_status`\nFROM\n    bigquery-public-data.thelook_ecommerce.order_items as order_items_order_items\n),\nexuberant as (\nSELECT\n    abundant.`order_items_sale_price` as `order_items_sale_price`,\n    civet.`order_items_orders_created_at` as `order_items_orders_created_at`,\n    civet.`order_items_orders_item_count` as `order_items_orders_item_count`,\n    abundant.`order_items_orders_id` as `order_items_orders_id`,\n    abundant.`order_items_status` as `order_items_status`\nFROM\n    abundant as abundant\n\nLEFT OUTER JOIN civet on abundant.`order_items_orders_id` = civet.`order_items_orders_id`\n\n),\nshrike as (\nSELECT\n    EXTRACT(MONTH from exuberant.`order_items_orders_created_at`) as `order_items_orders_created_at_month`,\n    exuberant.`order_items_orders_item_count` as `order_items_orders_item_count`,\n    exuberant.`order_items_sale_price` as `order_items_sale_price`\nFROM\n    exuberant as exuberant\n),\nsweltering as (\nSELECT\n    (shrike.`order_items_sale_price` * shrike.`order_items_orders_item_count`) as `order_items_revenue`,\n    shrike.`order_items_orders_created_at_month` as `order_items_orders_created_at_month`\nFROM\n    shrike as shrike\n),\nquick as (\nSELECT\n    (exuberant.`order_items_sale_price` * exuberant.`order_items_orders_item_count`) as `order_items_revenue`,\n    exuberant.`order_items_status` as `order_items_status`\nFROM\n    exuberant as exuberant\n),\nocelot as (\nSELECT\n    quick.`order_items_revenue` as `order_items_bookable_revenue`,\n    quick.`order_items_revenue` as `order_items_revenue`\nFROM\n    quick as quick\nWHERE\n    quick.`order_items_status` in ( 'Shipped' ) \n),\ncourageous as (\nSELECT\n    ocelot.`order_items_bookable_revenue` as `order_items_bookable_revenue`,\n    sweltering.`order_items_revenue` as `order_items_revenue`,\n    sweltering.`order_items_orders_created_at_month` as `order_items_orders_created_at_month`\nFROM\n    ocelot as ocelot\n\nINNER JOIN sweltering on ocelot.`order_items_revenue` = sweltering.`order_items_revenue`\n\n),\nodd as (\nSELECT\n    courageous.`order_items_bookable_revenue` as `order_items_bookable_revenue`,\n    charming.`order_items_orders_created_at_month` as `order_items_orders_created_at_month`\nFROM\n    charming as charming\n\nLEFT OUTER JOIN courageous on charming.`order_items_orders_created_at_month` = courageous.`order_items_orders_created_at_month`\n\n),\nsedate as (\nSELECT\n    sum(odd.`order_items_bookable_revenue`) as `revenue`,\n    odd.`order_items_orders_created_at_month` as `order_items_orders_created_at_month`\nFROM\n    odd as odd\nGROUP BY \n    odd.`order_items_orders_created_at_month`)\nSELECT\n    sedate.`order_items_orders_created_at_month`,\n    sedate.`revenue`\nFROM\n    sedate\n\nORDER BY \n    sedate.`order_items_orders_created_at_month` desc\n]\n(Background on this error at: https://sqlalche.me/e/14/4xp6)",
     "output_type": "error",
     "traceback": [
      "\u001b[1;31m---------------------------------------------------------------------------\u001b[0m",
      "\u001b[1;31mGoogleAPICallError\u001b[0m                        Traceback (most recent call last)",
      "File \u001b[1;32mc:\\Users\\ethan\\coding_projects\\trilogy-public-models\\.venv\\Lib\\site-packages\\google\\cloud\\bigquery\\dbapi\\cursor.py:213\u001b[0m, in \u001b[0;36mCursor._execute\u001b[1;34m(self, formatted_operation, parameters, job_id, job_config, parameter_types)\u001b[0m\n\u001b[0;32m    212\u001b[0m \u001b[38;5;28;01mtry\u001b[39;00m:\n\u001b[1;32m--> 213\u001b[0m     \u001b[38;5;28;43mself\u001b[39;49m\u001b[38;5;241;43m.\u001b[39;49m\u001b[43m_query_job\u001b[49m\u001b[38;5;241;43m.\u001b[39;49m\u001b[43mresult\u001b[49m\u001b[43m(\u001b[49m\u001b[43m)\u001b[49m\n\u001b[0;32m    214\u001b[0m \u001b[38;5;28;01mexcept\u001b[39;00m google\u001b[38;5;241m.\u001b[39mcloud\u001b[38;5;241m.\u001b[39mexceptions\u001b[38;5;241m.\u001b[39mGoogleCloudError \u001b[38;5;28;01mas\u001b[39;00m exc:\n",
      "File \u001b[1;32mc:\\Users\\ethan\\coding_projects\\trilogy-public-models\\.venv\\Lib\\site-packages\\google\\cloud\\bigquery\\job\\query.py:1520\u001b[0m, in \u001b[0;36mQueryJob.result\u001b[1;34m(self, page_size, max_results, retry, timeout, start_index, job_retry)\u001b[0m\n\u001b[0;32m   1518\u001b[0m         do_get_result \u001b[38;5;241m=\u001b[39m job_retry(do_get_result)\n\u001b[1;32m-> 1520\u001b[0m     \u001b[43mdo_get_result\u001b[49m\u001b[43m(\u001b[49m\u001b[43m)\u001b[49m\n\u001b[0;32m   1522\u001b[0m \u001b[38;5;28;01mexcept\u001b[39;00m exceptions\u001b[38;5;241m.\u001b[39mGoogleAPICallError \u001b[38;5;28;01mas\u001b[39;00m exc:\n",
      "File \u001b[1;32mc:\\Users\\ethan\\coding_projects\\trilogy-public-models\\.venv\\Lib\\site-packages\\google\\api_core\\retry.py:349\u001b[0m, in \u001b[0;36mRetry.__call__.<locals>.retry_wrapped_func\u001b[1;34m(*args, **kwargs)\u001b[0m\n\u001b[0;32m    346\u001b[0m sleep_generator \u001b[38;5;241m=\u001b[39m exponential_sleep_generator(\n\u001b[0;32m    347\u001b[0m     \u001b[38;5;28mself\u001b[39m\u001b[38;5;241m.\u001b[39m_initial, \u001b[38;5;28mself\u001b[39m\u001b[38;5;241m.\u001b[39m_maximum, multiplier\u001b[38;5;241m=\u001b[39m\u001b[38;5;28mself\u001b[39m\u001b[38;5;241m.\u001b[39m_multiplier\n\u001b[0;32m    348\u001b[0m )\n\u001b[1;32m--> 349\u001b[0m \u001b[38;5;28;01mreturn\u001b[39;00m \u001b[43mretry_target\u001b[49m\u001b[43m(\u001b[49m\n\u001b[0;32m    350\u001b[0m \u001b[43m    \u001b[49m\u001b[43mtarget\u001b[49m\u001b[43m,\u001b[49m\n\u001b[0;32m    351\u001b[0m \u001b[43m    \u001b[49m\u001b[38;5;28;43mself\u001b[39;49m\u001b[38;5;241;43m.\u001b[39;49m\u001b[43m_predicate\u001b[49m\u001b[43m,\u001b[49m\n\u001b[0;32m    352\u001b[0m \u001b[43m    \u001b[49m\u001b[43msleep_generator\u001b[49m\u001b[43m,\u001b[49m\n\u001b[0;32m    353\u001b[0m \u001b[43m    \u001b[49m\u001b[38;5;28;43mself\u001b[39;49m\u001b[38;5;241;43m.\u001b[39;49m\u001b[43m_timeout\u001b[49m\u001b[43m,\u001b[49m\n\u001b[0;32m    354\u001b[0m \u001b[43m    \u001b[49m\u001b[43mon_error\u001b[49m\u001b[38;5;241;43m=\u001b[39;49m\u001b[43mon_error\u001b[49m\u001b[43m,\u001b[49m\n\u001b[0;32m    355\u001b[0m \u001b[43m\u001b[49m\u001b[43m)\u001b[49m\n",
      "File \u001b[1;32mc:\\Users\\ethan\\coding_projects\\trilogy-public-models\\.venv\\Lib\\site-packages\\google\\api_core\\retry.py:191\u001b[0m, in \u001b[0;36mretry_target\u001b[1;34m(target, predicate, sleep_generator, timeout, on_error, **kwargs)\u001b[0m\n\u001b[0;32m    190\u001b[0m \u001b[38;5;28;01mtry\u001b[39;00m:\n\u001b[1;32m--> 191\u001b[0m     \u001b[38;5;28;01mreturn\u001b[39;00m \u001b[43mtarget\u001b[49m\u001b[43m(\u001b[49m\u001b[43m)\u001b[49m\n\u001b[0;32m    193\u001b[0m \u001b[38;5;66;03m# pylint: disable=broad-except\u001b[39;00m\n\u001b[0;32m    194\u001b[0m \u001b[38;5;66;03m# This function explicitly must deal with broad exceptions.\u001b[39;00m\n",
      "File \u001b[1;32mc:\\Users\\ethan\\coding_projects\\trilogy-public-models\\.venv\\Lib\\site-packages\\google\\cloud\\bigquery\\job\\query.py:1510\u001b[0m, in \u001b[0;36mQueryJob.result.<locals>.do_get_result\u001b[1;34m()\u001b[0m\n\u001b[0;32m   1508\u001b[0m     \u001b[38;5;28mself\u001b[39m\u001b[38;5;241m.\u001b[39m_job_retry \u001b[38;5;241m=\u001b[39m job_retry\n\u001b[1;32m-> 1510\u001b[0m \u001b[38;5;28;43msuper\u001b[39;49m\u001b[43m(\u001b[49m\u001b[43mQueryJob\u001b[49m\u001b[43m,\u001b[49m\u001b[43m \u001b[49m\u001b[38;5;28;43mself\u001b[39;49m\u001b[43m)\u001b[49m\u001b[38;5;241;43m.\u001b[39;49m\u001b[43mresult\u001b[49m\u001b[43m(\u001b[49m\u001b[43mretry\u001b[49m\u001b[38;5;241;43m=\u001b[39;49m\u001b[43mretry\u001b[49m\u001b[43m,\u001b[49m\u001b[43m \u001b[49m\u001b[43mtimeout\u001b[49m\u001b[38;5;241;43m=\u001b[39;49m\u001b[43mtimeout\u001b[49m\u001b[43m)\u001b[49m\n\u001b[0;32m   1512\u001b[0m \u001b[38;5;66;03m# Since the job could already be \"done\" (e.g. got a finished job\u001b[39;00m\n\u001b[0;32m   1513\u001b[0m \u001b[38;5;66;03m# via client.get_job), the superclass call to done() might not\u001b[39;00m\n\u001b[0;32m   1514\u001b[0m \u001b[38;5;66;03m# set the self._query_results cache.\u001b[39;00m\n",
      "File \u001b[1;32mc:\\Users\\ethan\\coding_projects\\trilogy-public-models\\.venv\\Lib\\site-packages\\google\\cloud\\bigquery\\job\\base.py:911\u001b[0m, in \u001b[0;36m_AsyncJob.result\u001b[1;34m(self, retry, timeout)\u001b[0m\n\u001b[0;32m    910\u001b[0m kwargs \u001b[38;5;241m=\u001b[39m {} \u001b[38;5;28;01mif\u001b[39;00m retry \u001b[38;5;129;01mis\u001b[39;00m DEFAULT_RETRY \u001b[38;5;28;01melse\u001b[39;00m {\u001b[38;5;124m\"\u001b[39m\u001b[38;5;124mretry\u001b[39m\u001b[38;5;124m\"\u001b[39m: retry}\n\u001b[1;32m--> 911\u001b[0m \u001b[38;5;28;01mreturn\u001b[39;00m \u001b[38;5;28;43msuper\u001b[39;49m\u001b[43m(\u001b[49m\u001b[43m_AsyncJob\u001b[49m\u001b[43m,\u001b[49m\u001b[43m \u001b[49m\u001b[38;5;28;43mself\u001b[39;49m\u001b[43m)\u001b[49m\u001b[38;5;241;43m.\u001b[39;49m\u001b[43mresult\u001b[49m\u001b[43m(\u001b[49m\u001b[43mtimeout\u001b[49m\u001b[38;5;241;43m=\u001b[39;49m\u001b[43mtimeout\u001b[49m\u001b[43m,\u001b[49m\u001b[43m \u001b[49m\u001b[38;5;241;43m*\u001b[39;49m\u001b[38;5;241;43m*\u001b[39;49m\u001b[43mkwargs\u001b[49m\u001b[43m)\u001b[49m\n",
      "File \u001b[1;32mc:\\Users\\ethan\\coding_projects\\trilogy-public-models\\.venv\\Lib\\site-packages\\google\\api_core\\future\\polling.py:261\u001b[0m, in \u001b[0;36mPollingFuture.result\u001b[1;34m(self, timeout, retry, polling)\u001b[0m\n\u001b[0;32m    258\u001b[0m \u001b[38;5;28;01mif\u001b[39;00m \u001b[38;5;28mself\u001b[39m\u001b[38;5;241m.\u001b[39m_exception \u001b[38;5;129;01mis\u001b[39;00m \u001b[38;5;129;01mnot\u001b[39;00m \u001b[38;5;28;01mNone\u001b[39;00m:\n\u001b[0;32m    259\u001b[0m     \u001b[38;5;66;03m# pylint: disable=raising-bad-type\u001b[39;00m\n\u001b[0;32m    260\u001b[0m     \u001b[38;5;66;03m# Pylint doesn't recognize that this is valid in this case.\u001b[39;00m\n\u001b[1;32m--> 261\u001b[0m     \u001b[38;5;28;01mraise\u001b[39;00m \u001b[38;5;28mself\u001b[39m\u001b[38;5;241m.\u001b[39m_exception\n\u001b[0;32m    263\u001b[0m \u001b[38;5;28;01mreturn\u001b[39;00m \u001b[38;5;28mself\u001b[39m\u001b[38;5;241m.\u001b[39m_result\n",
      "\u001b[1;31mGoogleAPICallError\u001b[0m: 200 Job execution was cancelled: User requested cancellation\n\nLocation: US\nJob ID: 1e0f701c-00ac-4b7b-b703-93993f6020f4\n",
      "\nDuring handling of the above exception, another exception occurred:\n",
      "\u001b[1;31mDatabaseError\u001b[0m                             Traceback (most recent call last)",
      "File \u001b[1;32mc:\\Users\\ethan\\coding_projects\\trilogy-public-models\\.venv\\Lib\\site-packages\\sqlalchemy\\engine\\base.py:1910\u001b[0m, in \u001b[0;36mConnection._execute_context\u001b[1;34m(self, dialect, constructor, statement, parameters, execution_options, *args, **kw)\u001b[0m\n\u001b[0;32m   1909\u001b[0m     \u001b[38;5;28;01mif\u001b[39;00m \u001b[38;5;129;01mnot\u001b[39;00m evt_handled:\n\u001b[1;32m-> 1910\u001b[0m         \u001b[38;5;28;43mself\u001b[39;49m\u001b[38;5;241;43m.\u001b[39;49m\u001b[43mdialect\u001b[49m\u001b[38;5;241;43m.\u001b[39;49m\u001b[43mdo_execute\u001b[49m\u001b[43m(\u001b[49m\n\u001b[0;32m   1911\u001b[0m \u001b[43m            \u001b[49m\u001b[43mcursor\u001b[49m\u001b[43m,\u001b[49m\u001b[43m \u001b[49m\u001b[43mstatement\u001b[49m\u001b[43m,\u001b[49m\u001b[43m \u001b[49m\u001b[43mparameters\u001b[49m\u001b[43m,\u001b[49m\u001b[43m \u001b[49m\u001b[43mcontext\u001b[49m\n\u001b[0;32m   1912\u001b[0m \u001b[43m        \u001b[49m\u001b[43m)\u001b[49m\n\u001b[0;32m   1914\u001b[0m \u001b[38;5;28;01mif\u001b[39;00m \u001b[38;5;28mself\u001b[39m\u001b[38;5;241m.\u001b[39m_has_events \u001b[38;5;129;01mor\u001b[39;00m \u001b[38;5;28mself\u001b[39m\u001b[38;5;241m.\u001b[39mengine\u001b[38;5;241m.\u001b[39m_has_events:\n",
      "File \u001b[1;32mc:\\Users\\ethan\\coding_projects\\trilogy-public-models\\.venv\\Lib\\site-packages\\sqlalchemy\\engine\\default.py:736\u001b[0m, in \u001b[0;36mDefaultDialect.do_execute\u001b[1;34m(self, cursor, statement, parameters, context)\u001b[0m\n\u001b[0;32m    735\u001b[0m \u001b[38;5;28;01mdef\u001b[39;00m \u001b[38;5;21mdo_execute\u001b[39m(\u001b[38;5;28mself\u001b[39m, cursor, statement, parameters, context\u001b[38;5;241m=\u001b[39m\u001b[38;5;28;01mNone\u001b[39;00m):\n\u001b[1;32m--> 736\u001b[0m     \u001b[43mcursor\u001b[49m\u001b[38;5;241;43m.\u001b[39;49m\u001b[43mexecute\u001b[49m\u001b[43m(\u001b[49m\u001b[43mstatement\u001b[49m\u001b[43m,\u001b[49m\u001b[43m \u001b[49m\u001b[43mparameters\u001b[49m\u001b[43m)\u001b[49m\n",
      "File \u001b[1;32mc:\\Users\\ethan\\coding_projects\\trilogy-public-models\\.venv\\Lib\\site-packages\\google\\cloud\\bigquery\\dbapi\\_helpers.py:494\u001b[0m, in \u001b[0;36mraise_on_closed.<locals>._raise_on_closed.<locals>.with_closed_check\u001b[1;34m(self, *args, **kwargs)\u001b[0m\n\u001b[0;32m    493\u001b[0m     \u001b[38;5;28;01mraise\u001b[39;00m exc_class(exc_msg)\n\u001b[1;32m--> 494\u001b[0m \u001b[38;5;28;01mreturn\u001b[39;00m \u001b[43mmethod\u001b[49m\u001b[43m(\u001b[49m\u001b[38;5;28;43mself\u001b[39;49m\u001b[43m,\u001b[49m\u001b[43m \u001b[49m\u001b[38;5;241;43m*\u001b[39;49m\u001b[43margs\u001b[49m\u001b[43m,\u001b[49m\u001b[43m \u001b[49m\u001b[38;5;241;43m*\u001b[39;49m\u001b[38;5;241;43m*\u001b[39;49m\u001b[43mkwargs\u001b[49m\u001b[43m)\u001b[49m\n",
      "File \u001b[1;32mc:\\Users\\ethan\\coding_projects\\trilogy-public-models\\.venv\\Lib\\site-packages\\google\\cloud\\bigquery\\dbapi\\cursor.py:176\u001b[0m, in \u001b[0;36mCursor.execute\u001b[1;34m(self, operation, parameters, job_id, job_config)\u001b[0m\n\u001b[0;32m    175\u001b[0m formatted_operation, parameter_types \u001b[38;5;241m=\u001b[39m _format_operation(operation, parameters)\n\u001b[1;32m--> 176\u001b[0m \u001b[38;5;28;43mself\u001b[39;49m\u001b[38;5;241;43m.\u001b[39;49m\u001b[43m_execute\u001b[49m\u001b[43m(\u001b[49m\n\u001b[0;32m    177\u001b[0m \u001b[43m    \u001b[49m\u001b[43mformatted_operation\u001b[49m\u001b[43m,\u001b[49m\u001b[43m \u001b[49m\u001b[43mparameters\u001b[49m\u001b[43m,\u001b[49m\u001b[43m \u001b[49m\u001b[43mjob_id\u001b[49m\u001b[43m,\u001b[49m\u001b[43m \u001b[49m\u001b[43mjob_config\u001b[49m\u001b[43m,\u001b[49m\u001b[43m \u001b[49m\u001b[43mparameter_types\u001b[49m\n\u001b[0;32m    178\u001b[0m \u001b[43m\u001b[49m\u001b[43m)\u001b[49m\n",
      "File \u001b[1;32mc:\\Users\\ethan\\coding_projects\\trilogy-public-models\\.venv\\Lib\\site-packages\\google\\cloud\\bigquery\\dbapi\\cursor.py:215\u001b[0m, in \u001b[0;36mCursor._execute\u001b[1;34m(self, formatted_operation, parameters, job_id, job_config, parameter_types)\u001b[0m\n\u001b[0;32m    214\u001b[0m \u001b[38;5;28;01mexcept\u001b[39;00m google\u001b[38;5;241m.\u001b[39mcloud\u001b[38;5;241m.\u001b[39mexceptions\u001b[38;5;241m.\u001b[39mGoogleCloudError \u001b[38;5;28;01mas\u001b[39;00m exc:\n\u001b[1;32m--> 215\u001b[0m     \u001b[38;5;28;01mraise\u001b[39;00m exceptions\u001b[38;5;241m.\u001b[39mDatabaseError(exc)\n\u001b[0;32m    217\u001b[0m query_results \u001b[38;5;241m=\u001b[39m \u001b[38;5;28mself\u001b[39m\u001b[38;5;241m.\u001b[39m_query_job\u001b[38;5;241m.\u001b[39m_query_results\n",
      "\u001b[1;31mDatabaseError\u001b[0m: 200 Job execution was cancelled: User requested cancellation\n\nLocation: US\nJob ID: 1e0f701c-00ac-4b7b-b703-93993f6020f4\n",
      "\nThe above exception was the direct cause of the following exception:\n",
      "\u001b[1;31mDatabaseError\u001b[0m                             Traceback (most recent call last)",
      "Cell \u001b[1;32mIn[13], line 11\u001b[0m\n\u001b[0;32m      1\u001b[0m QA_3 \u001b[38;5;241m=\u001b[39m \u001b[38;5;124m\"\"\"\u001b[39m\n\u001b[0;32m      2\u001b[0m \u001b[38;5;124mproperty order_items.id.revenue <- order_items.sale_price*order_items.orders.item_count;\u001b[39m\n\u001b[0;32m      3\u001b[0m \u001b[38;5;124m# shipped, complete, processing\u001b[39m\n\u001b[1;32m   (...)\u001b[0m\n\u001b[0;32m      8\u001b[0m \u001b[38;5;124mORDER BY order_items.orders.created_at.month DESC;\u001b[39m\n\u001b[0;32m      9\u001b[0m \u001b[38;5;124m\"\"\"\u001b[39m\n\u001b[1;32m---> 11\u001b[0m results \u001b[38;5;241m=\u001b[39m \u001b[43mexecutor\u001b[49m\u001b[38;5;241;43m.\u001b[39;49m\u001b[43mexecute_text\u001b[49m\u001b[43m(\u001b[49m\u001b[43mQA_3\u001b[49m\u001b[43m)\u001b[49m\n",
      "File \u001b[1;32mc:\\Users\\ethan\\coding_projects\\trilogy-public-models\\.venv\\Lib\\site-packages\\preql\\executor.py:201\u001b[0m, in \u001b[0;36mExecutor.execute_text\u001b[1;34m(self, command)\u001b[0m\n\u001b[0;32m    198\u001b[0m compiled_sql \u001b[38;5;241m=\u001b[39m \u001b[38;5;28mself\u001b[39m\u001b[38;5;241m.\u001b[39mgenerator\u001b[38;5;241m.\u001b[39mcompile_statement(statement)\n\u001b[0;32m    199\u001b[0m logger\u001b[38;5;241m.\u001b[39mdebug(compiled_sql)\n\u001b[1;32m--> 201\u001b[0m output\u001b[38;5;241m.\u001b[39mappend(\u001b[38;5;28;43mself\u001b[39;49m\u001b[38;5;241;43m.\u001b[39;49m\u001b[43mconnection\u001b[49m\u001b[38;5;241;43m.\u001b[39;49m\u001b[43mexecute\u001b[49m\u001b[43m(\u001b[49m\u001b[43mtext\u001b[49m\u001b[43m(\u001b[49m\u001b[43mcompiled_sql\u001b[49m\u001b[43m)\u001b[49m\u001b[43m)\u001b[49m)\n\u001b[0;32m    202\u001b[0m \u001b[38;5;66;03m# generalize post-run success hooks\u001b[39;00m\n\u001b[0;32m    203\u001b[0m \u001b[38;5;28;01mif\u001b[39;00m \u001b[38;5;28misinstance\u001b[39m(statement, ProcessedQueryPersist):\n",
      "File \u001b[1;32mc:\\Users\\ethan\\coding_projects\\trilogy-public-models\\.venv\\Lib\\site-packages\\sqlalchemy\\engine\\base.py:1385\u001b[0m, in \u001b[0;36mConnection.execute\u001b[1;34m(self, statement, *multiparams, **params)\u001b[0m\n\u001b[0;32m   1381\u001b[0m     util\u001b[38;5;241m.\u001b[39mraise_(\n\u001b[0;32m   1382\u001b[0m         exc\u001b[38;5;241m.\u001b[39mObjectNotExecutableError(statement), replace_context\u001b[38;5;241m=\u001b[39merr\n\u001b[0;32m   1383\u001b[0m     )\n\u001b[0;32m   1384\u001b[0m \u001b[38;5;28;01melse\u001b[39;00m:\n\u001b[1;32m-> 1385\u001b[0m     \u001b[38;5;28;01mreturn\u001b[39;00m \u001b[43mmeth\u001b[49m\u001b[43m(\u001b[49m\u001b[38;5;28;43mself\u001b[39;49m\u001b[43m,\u001b[49m\u001b[43m \u001b[49m\u001b[43mmultiparams\u001b[49m\u001b[43m,\u001b[49m\u001b[43m \u001b[49m\u001b[43mparams\u001b[49m\u001b[43m,\u001b[49m\u001b[43m \u001b[49m\u001b[43m_EMPTY_EXECUTION_OPTS\u001b[49m\u001b[43m)\u001b[49m\n",
      "File \u001b[1;32mc:\\Users\\ethan\\coding_projects\\trilogy-public-models\\.venv\\Lib\\site-packages\\sqlalchemy\\sql\\elements.py:334\u001b[0m, in \u001b[0;36mClauseElement._execute_on_connection\u001b[1;34m(self, connection, multiparams, params, execution_options, _force)\u001b[0m\n\u001b[0;32m    330\u001b[0m \u001b[38;5;28;01mdef\u001b[39;00m \u001b[38;5;21m_execute_on_connection\u001b[39m(\n\u001b[0;32m    331\u001b[0m     \u001b[38;5;28mself\u001b[39m, connection, multiparams, params, execution_options, _force\u001b[38;5;241m=\u001b[39m\u001b[38;5;28;01mFalse\u001b[39;00m\n\u001b[0;32m    332\u001b[0m ):\n\u001b[0;32m    333\u001b[0m     \u001b[38;5;28;01mif\u001b[39;00m _force \u001b[38;5;129;01mor\u001b[39;00m \u001b[38;5;28mself\u001b[39m\u001b[38;5;241m.\u001b[39msupports_execution:\n\u001b[1;32m--> 334\u001b[0m         \u001b[38;5;28;01mreturn\u001b[39;00m \u001b[43mconnection\u001b[49m\u001b[38;5;241;43m.\u001b[39;49m\u001b[43m_execute_clauseelement\u001b[49m\u001b[43m(\u001b[49m\n\u001b[0;32m    335\u001b[0m \u001b[43m            \u001b[49m\u001b[38;5;28;43mself\u001b[39;49m\u001b[43m,\u001b[49m\u001b[43m \u001b[49m\u001b[43mmultiparams\u001b[49m\u001b[43m,\u001b[49m\u001b[43m \u001b[49m\u001b[43mparams\u001b[49m\u001b[43m,\u001b[49m\u001b[43m \u001b[49m\u001b[43mexecution_options\u001b[49m\n\u001b[0;32m    336\u001b[0m \u001b[43m        \u001b[49m\u001b[43m)\u001b[49m\n\u001b[0;32m    337\u001b[0m     \u001b[38;5;28;01melse\u001b[39;00m:\n\u001b[0;32m    338\u001b[0m         \u001b[38;5;28;01mraise\u001b[39;00m exc\u001b[38;5;241m.\u001b[39mObjectNotExecutableError(\u001b[38;5;28mself\u001b[39m)\n",
      "File \u001b[1;32mc:\\Users\\ethan\\coding_projects\\trilogy-public-models\\.venv\\Lib\\site-packages\\sqlalchemy\\engine\\base.py:1577\u001b[0m, in \u001b[0;36mConnection._execute_clauseelement\u001b[1;34m(self, elem, multiparams, params, execution_options)\u001b[0m\n\u001b[0;32m   1565\u001b[0m compiled_cache \u001b[38;5;241m=\u001b[39m execution_options\u001b[38;5;241m.\u001b[39mget(\n\u001b[0;32m   1566\u001b[0m     \u001b[38;5;124m\"\u001b[39m\u001b[38;5;124mcompiled_cache\u001b[39m\u001b[38;5;124m\"\u001b[39m, \u001b[38;5;28mself\u001b[39m\u001b[38;5;241m.\u001b[39mengine\u001b[38;5;241m.\u001b[39m_compiled_cache\n\u001b[0;32m   1567\u001b[0m )\n\u001b[0;32m   1569\u001b[0m compiled_sql, extracted_params, cache_hit \u001b[38;5;241m=\u001b[39m elem\u001b[38;5;241m.\u001b[39m_compile_w_cache(\n\u001b[0;32m   1570\u001b[0m     dialect\u001b[38;5;241m=\u001b[39mdialect,\n\u001b[0;32m   1571\u001b[0m     compiled_cache\u001b[38;5;241m=\u001b[39mcompiled_cache,\n\u001b[1;32m   (...)\u001b[0m\n\u001b[0;32m   1575\u001b[0m     linting\u001b[38;5;241m=\u001b[39m\u001b[38;5;28mself\u001b[39m\u001b[38;5;241m.\u001b[39mdialect\u001b[38;5;241m.\u001b[39mcompiler_linting \u001b[38;5;241m|\u001b[39m compiler\u001b[38;5;241m.\u001b[39mWARN_LINTING,\n\u001b[0;32m   1576\u001b[0m )\n\u001b[1;32m-> 1577\u001b[0m ret \u001b[38;5;241m=\u001b[39m \u001b[38;5;28;43mself\u001b[39;49m\u001b[38;5;241;43m.\u001b[39;49m\u001b[43m_execute_context\u001b[49m\u001b[43m(\u001b[49m\n\u001b[0;32m   1578\u001b[0m \u001b[43m    \u001b[49m\u001b[43mdialect\u001b[49m\u001b[43m,\u001b[49m\n\u001b[0;32m   1579\u001b[0m \u001b[43m    \u001b[49m\u001b[43mdialect\u001b[49m\u001b[38;5;241;43m.\u001b[39;49m\u001b[43mexecution_ctx_cls\u001b[49m\u001b[38;5;241;43m.\u001b[39;49m\u001b[43m_init_compiled\u001b[49m\u001b[43m,\u001b[49m\n\u001b[0;32m   1580\u001b[0m \u001b[43m    \u001b[49m\u001b[43mcompiled_sql\u001b[49m\u001b[43m,\u001b[49m\n\u001b[0;32m   1581\u001b[0m \u001b[43m    \u001b[49m\u001b[43mdistilled_params\u001b[49m\u001b[43m,\u001b[49m\n\u001b[0;32m   1582\u001b[0m \u001b[43m    \u001b[49m\u001b[43mexecution_options\u001b[49m\u001b[43m,\u001b[49m\n\u001b[0;32m   1583\u001b[0m \u001b[43m    \u001b[49m\u001b[43mcompiled_sql\u001b[49m\u001b[43m,\u001b[49m\n\u001b[0;32m   1584\u001b[0m \u001b[43m    \u001b[49m\u001b[43mdistilled_params\u001b[49m\u001b[43m,\u001b[49m\n\u001b[0;32m   1585\u001b[0m \u001b[43m    \u001b[49m\u001b[43melem\u001b[49m\u001b[43m,\u001b[49m\n\u001b[0;32m   1586\u001b[0m \u001b[43m    \u001b[49m\u001b[43mextracted_params\u001b[49m\u001b[43m,\u001b[49m\n\u001b[0;32m   1587\u001b[0m \u001b[43m    \u001b[49m\u001b[43mcache_hit\u001b[49m\u001b[38;5;241;43m=\u001b[39;49m\u001b[43mcache_hit\u001b[49m\u001b[43m,\u001b[49m\n\u001b[0;32m   1588\u001b[0m \u001b[43m\u001b[49m\u001b[43m)\u001b[49m\n\u001b[0;32m   1589\u001b[0m \u001b[38;5;28;01mif\u001b[39;00m has_events:\n\u001b[0;32m   1590\u001b[0m     \u001b[38;5;28mself\u001b[39m\u001b[38;5;241m.\u001b[39mdispatch\u001b[38;5;241m.\u001b[39mafter_execute(\n\u001b[0;32m   1591\u001b[0m         \u001b[38;5;28mself\u001b[39m,\n\u001b[0;32m   1592\u001b[0m         elem,\n\u001b[1;32m   (...)\u001b[0m\n\u001b[0;32m   1596\u001b[0m         ret,\n\u001b[0;32m   1597\u001b[0m     )\n",
      "File \u001b[1;32mc:\\Users\\ethan\\coding_projects\\trilogy-public-models\\.venv\\Lib\\site-packages\\sqlalchemy\\engine\\base.py:1953\u001b[0m, in \u001b[0;36mConnection._execute_context\u001b[1;34m(self, dialect, constructor, statement, parameters, execution_options, *args, **kw)\u001b[0m\n\u001b[0;32m   1950\u001b[0m             branched\u001b[38;5;241m.\u001b[39mclose()\n\u001b[0;32m   1952\u001b[0m \u001b[38;5;28;01mexcept\u001b[39;00m \u001b[38;5;167;01mBaseException\u001b[39;00m \u001b[38;5;28;01mas\u001b[39;00m e:\n\u001b[1;32m-> 1953\u001b[0m     \u001b[38;5;28;43mself\u001b[39;49m\u001b[38;5;241;43m.\u001b[39;49m\u001b[43m_handle_dbapi_exception\u001b[49m\u001b[43m(\u001b[49m\n\u001b[0;32m   1954\u001b[0m \u001b[43m        \u001b[49m\u001b[43me\u001b[49m\u001b[43m,\u001b[49m\u001b[43m \u001b[49m\u001b[43mstatement\u001b[49m\u001b[43m,\u001b[49m\u001b[43m \u001b[49m\u001b[43mparameters\u001b[49m\u001b[43m,\u001b[49m\u001b[43m \u001b[49m\u001b[43mcursor\u001b[49m\u001b[43m,\u001b[49m\u001b[43m \u001b[49m\u001b[43mcontext\u001b[49m\n\u001b[0;32m   1955\u001b[0m \u001b[43m    \u001b[49m\u001b[43m)\u001b[49m\n\u001b[0;32m   1957\u001b[0m \u001b[38;5;28;01mreturn\u001b[39;00m result\n",
      "File \u001b[1;32mc:\\Users\\ethan\\coding_projects\\trilogy-public-models\\.venv\\Lib\\site-packages\\sqlalchemy\\engine\\base.py:2134\u001b[0m, in \u001b[0;36mConnection._handle_dbapi_exception\u001b[1;34m(self, e, statement, parameters, cursor, context)\u001b[0m\n\u001b[0;32m   2132\u001b[0m     util\u001b[38;5;241m.\u001b[39mraise_(newraise, with_traceback\u001b[38;5;241m=\u001b[39mexc_info[\u001b[38;5;241m2\u001b[39m], from_\u001b[38;5;241m=\u001b[39me)\n\u001b[0;32m   2133\u001b[0m \u001b[38;5;28;01melif\u001b[39;00m should_wrap:\n\u001b[1;32m-> 2134\u001b[0m     \u001b[43mutil\u001b[49m\u001b[38;5;241;43m.\u001b[39;49m\u001b[43mraise_\u001b[49m\u001b[43m(\u001b[49m\n\u001b[0;32m   2135\u001b[0m \u001b[43m        \u001b[49m\u001b[43msqlalchemy_exception\u001b[49m\u001b[43m,\u001b[49m\u001b[43m \u001b[49m\u001b[43mwith_traceback\u001b[49m\u001b[38;5;241;43m=\u001b[39;49m\u001b[43mexc_info\u001b[49m\u001b[43m[\u001b[49m\u001b[38;5;241;43m2\u001b[39;49m\u001b[43m]\u001b[49m\u001b[43m,\u001b[49m\u001b[43m \u001b[49m\u001b[43mfrom_\u001b[49m\u001b[38;5;241;43m=\u001b[39;49m\u001b[43me\u001b[49m\n\u001b[0;32m   2136\u001b[0m \u001b[43m    \u001b[49m\u001b[43m)\u001b[49m\n\u001b[0;32m   2137\u001b[0m \u001b[38;5;28;01melse\u001b[39;00m:\n\u001b[0;32m   2138\u001b[0m     util\u001b[38;5;241m.\u001b[39mraise_(exc_info[\u001b[38;5;241m1\u001b[39m], with_traceback\u001b[38;5;241m=\u001b[39mexc_info[\u001b[38;5;241m2\u001b[39m])\n",
      "File \u001b[1;32mc:\\Users\\ethan\\coding_projects\\trilogy-public-models\\.venv\\Lib\\site-packages\\sqlalchemy\\util\\compat.py:211\u001b[0m, in \u001b[0;36mraise_\u001b[1;34m(***failed resolving arguments***)\u001b[0m\n\u001b[0;32m    208\u001b[0m     exception\u001b[38;5;241m.\u001b[39m__cause__ \u001b[38;5;241m=\u001b[39m replace_context\n\u001b[0;32m    210\u001b[0m \u001b[38;5;28;01mtry\u001b[39;00m:\n\u001b[1;32m--> 211\u001b[0m     \u001b[38;5;28;01mraise\u001b[39;00m exception\n\u001b[0;32m    212\u001b[0m \u001b[38;5;28;01mfinally\u001b[39;00m:\n\u001b[0;32m    213\u001b[0m     \u001b[38;5;66;03m# credit to\u001b[39;00m\n\u001b[0;32m    214\u001b[0m     \u001b[38;5;66;03m# https://cosmicpercolator.com/2016/01/13/exception-leaks-in-python-2-and-3/\u001b[39;00m\n\u001b[0;32m    215\u001b[0m     \u001b[38;5;66;03m# as the __traceback__ object creates a cycle\u001b[39;00m\n\u001b[0;32m    216\u001b[0m     \u001b[38;5;28;01mdel\u001b[39;00m exception, replace_context, from_, with_traceback\n",
      "File \u001b[1;32mc:\\Users\\ethan\\coding_projects\\trilogy-public-models\\.venv\\Lib\\site-packages\\sqlalchemy\\engine\\base.py:1910\u001b[0m, in \u001b[0;36mConnection._execute_context\u001b[1;34m(self, dialect, constructor, statement, parameters, execution_options, *args, **kw)\u001b[0m\n\u001b[0;32m   1908\u001b[0m                 \u001b[38;5;28;01mbreak\u001b[39;00m\n\u001b[0;32m   1909\u001b[0m     \u001b[38;5;28;01mif\u001b[39;00m \u001b[38;5;129;01mnot\u001b[39;00m evt_handled:\n\u001b[1;32m-> 1910\u001b[0m         \u001b[38;5;28;43mself\u001b[39;49m\u001b[38;5;241;43m.\u001b[39;49m\u001b[43mdialect\u001b[49m\u001b[38;5;241;43m.\u001b[39;49m\u001b[43mdo_execute\u001b[49m\u001b[43m(\u001b[49m\n\u001b[0;32m   1911\u001b[0m \u001b[43m            \u001b[49m\u001b[43mcursor\u001b[49m\u001b[43m,\u001b[49m\u001b[43m \u001b[49m\u001b[43mstatement\u001b[49m\u001b[43m,\u001b[49m\u001b[43m \u001b[49m\u001b[43mparameters\u001b[49m\u001b[43m,\u001b[49m\u001b[43m \u001b[49m\u001b[43mcontext\u001b[49m\n\u001b[0;32m   1912\u001b[0m \u001b[43m        \u001b[49m\u001b[43m)\u001b[49m\n\u001b[0;32m   1914\u001b[0m \u001b[38;5;28;01mif\u001b[39;00m \u001b[38;5;28mself\u001b[39m\u001b[38;5;241m.\u001b[39m_has_events \u001b[38;5;129;01mor\u001b[39;00m \u001b[38;5;28mself\u001b[39m\u001b[38;5;241m.\u001b[39mengine\u001b[38;5;241m.\u001b[39m_has_events:\n\u001b[0;32m   1915\u001b[0m     \u001b[38;5;28mself\u001b[39m\u001b[38;5;241m.\u001b[39mdispatch\u001b[38;5;241m.\u001b[39mafter_cursor_execute(\n\u001b[0;32m   1916\u001b[0m         \u001b[38;5;28mself\u001b[39m,\n\u001b[0;32m   1917\u001b[0m         cursor,\n\u001b[1;32m   (...)\u001b[0m\n\u001b[0;32m   1921\u001b[0m         context\u001b[38;5;241m.\u001b[39mexecutemany,\n\u001b[0;32m   1922\u001b[0m     )\n",
      "File \u001b[1;32mc:\\Users\\ethan\\coding_projects\\trilogy-public-models\\.venv\\Lib\\site-packages\\sqlalchemy\\engine\\default.py:736\u001b[0m, in \u001b[0;36mDefaultDialect.do_execute\u001b[1;34m(self, cursor, statement, parameters, context)\u001b[0m\n\u001b[0;32m    735\u001b[0m \u001b[38;5;28;01mdef\u001b[39;00m \u001b[38;5;21mdo_execute\u001b[39m(\u001b[38;5;28mself\u001b[39m, cursor, statement, parameters, context\u001b[38;5;241m=\u001b[39m\u001b[38;5;28;01mNone\u001b[39;00m):\n\u001b[1;32m--> 736\u001b[0m     \u001b[43mcursor\u001b[49m\u001b[38;5;241;43m.\u001b[39;49m\u001b[43mexecute\u001b[49m\u001b[43m(\u001b[49m\u001b[43mstatement\u001b[49m\u001b[43m,\u001b[49m\u001b[43m \u001b[49m\u001b[43mparameters\u001b[49m\u001b[43m)\u001b[49m\n",
      "File \u001b[1;32mc:\\Users\\ethan\\coding_projects\\trilogy-public-models\\.venv\\Lib\\site-packages\\google\\cloud\\bigquery\\dbapi\\_helpers.py:494\u001b[0m, in \u001b[0;36mraise_on_closed.<locals>._raise_on_closed.<locals>.with_closed_check\u001b[1;34m(self, *args, **kwargs)\u001b[0m\n\u001b[0;32m    492\u001b[0m \u001b[38;5;28;01mif\u001b[39;00m \u001b[38;5;28mgetattr\u001b[39m(\u001b[38;5;28mself\u001b[39m, closed_attr_name):\n\u001b[0;32m    493\u001b[0m     \u001b[38;5;28;01mraise\u001b[39;00m exc_class(exc_msg)\n\u001b[1;32m--> 494\u001b[0m \u001b[38;5;28;01mreturn\u001b[39;00m \u001b[43mmethod\u001b[49m\u001b[43m(\u001b[49m\u001b[38;5;28;43mself\u001b[39;49m\u001b[43m,\u001b[49m\u001b[43m \u001b[49m\u001b[38;5;241;43m*\u001b[39;49m\u001b[43margs\u001b[49m\u001b[43m,\u001b[49m\u001b[43m \u001b[49m\u001b[38;5;241;43m*\u001b[39;49m\u001b[38;5;241;43m*\u001b[39;49m\u001b[43mkwargs\u001b[49m\u001b[43m)\u001b[49m\n",
      "File \u001b[1;32mc:\\Users\\ethan\\coding_projects\\trilogy-public-models\\.venv\\Lib\\site-packages\\google\\cloud\\bigquery\\dbapi\\cursor.py:176\u001b[0m, in \u001b[0;36mCursor.execute\u001b[1;34m(self, operation, parameters, job_id, job_config)\u001b[0m\n\u001b[0;32m    141\u001b[0m \u001b[38;5;250m\u001b[39m\u001b[38;5;124;03m\"\"\"Prepare and execute a database operation.\u001b[39;00m\n\u001b[0;32m    142\u001b[0m \n\u001b[0;32m    143\u001b[0m \u001b[38;5;124;03m.. note::\u001b[39;00m\n\u001b[1;32m   (...)\u001b[0m\n\u001b[0;32m    173\u001b[0m \u001b[38;5;124;03m        (Optional) Extra configuration options for the query job.\u001b[39;00m\n\u001b[0;32m    174\u001b[0m \u001b[38;5;124;03m\"\"\"\u001b[39;00m\n\u001b[0;32m    175\u001b[0m formatted_operation, parameter_types \u001b[38;5;241m=\u001b[39m _format_operation(operation, parameters)\n\u001b[1;32m--> 176\u001b[0m \u001b[38;5;28;43mself\u001b[39;49m\u001b[38;5;241;43m.\u001b[39;49m\u001b[43m_execute\u001b[49m\u001b[43m(\u001b[49m\n\u001b[0;32m    177\u001b[0m \u001b[43m    \u001b[49m\u001b[43mformatted_operation\u001b[49m\u001b[43m,\u001b[49m\u001b[43m \u001b[49m\u001b[43mparameters\u001b[49m\u001b[43m,\u001b[49m\u001b[43m \u001b[49m\u001b[43mjob_id\u001b[49m\u001b[43m,\u001b[49m\u001b[43m \u001b[49m\u001b[43mjob_config\u001b[49m\u001b[43m,\u001b[49m\u001b[43m \u001b[49m\u001b[43mparameter_types\u001b[49m\n\u001b[0;32m    178\u001b[0m \u001b[43m\u001b[49m\u001b[43m)\u001b[49m\n",
      "File \u001b[1;32mc:\\Users\\ethan\\coding_projects\\trilogy-public-models\\.venv\\Lib\\site-packages\\google\\cloud\\bigquery\\dbapi\\cursor.py:215\u001b[0m, in \u001b[0;36mCursor._execute\u001b[1;34m(self, formatted_operation, parameters, job_id, job_config, parameter_types)\u001b[0m\n\u001b[0;32m    213\u001b[0m     \u001b[38;5;28mself\u001b[39m\u001b[38;5;241m.\u001b[39m_query_job\u001b[38;5;241m.\u001b[39mresult()\n\u001b[0;32m    214\u001b[0m \u001b[38;5;28;01mexcept\u001b[39;00m google\u001b[38;5;241m.\u001b[39mcloud\u001b[38;5;241m.\u001b[39mexceptions\u001b[38;5;241m.\u001b[39mGoogleCloudError \u001b[38;5;28;01mas\u001b[39;00m exc:\n\u001b[1;32m--> 215\u001b[0m     \u001b[38;5;28;01mraise\u001b[39;00m exceptions\u001b[38;5;241m.\u001b[39mDatabaseError(exc)\n\u001b[0;32m    217\u001b[0m query_results \u001b[38;5;241m=\u001b[39m \u001b[38;5;28mself\u001b[39m\u001b[38;5;241m.\u001b[39m_query_job\u001b[38;5;241m.\u001b[39m_query_results\n\u001b[0;32m    218\u001b[0m \u001b[38;5;28mself\u001b[39m\u001b[38;5;241m.\u001b[39m_set_rowcount(query_results)\n",
      "\u001b[1;31mDatabaseError\u001b[0m: (google.cloud.bigquery.dbapi.exceptions.DatabaseError) 200 Job execution was cancelled: User requested cancellation\n\nLocation: US\nJob ID: 1e0f701c-00ac-4b7b-b703-93993f6020f4\n\n[SQL: \nWITH \ncivet as (\nSELECT\n    order_items_orders_orders.`created_at` as `order_items_orders_created_at`,\n    order_items_orders_orders.`order_id` as `order_items_orders_id`,\n    order_items_orders_orders.`num_of_item` as `order_items_orders_item_count`\nFROM\n    bigquery-public-data.thelook_ecommerce.orders as order_items_orders_orders\n),\ncharming as (\nSELECT\n    EXTRACT(MONTH from civet.`order_items_orders_created_at`) as `order_items_orders_created_at_month`\nFROM\n    civet as civet\n),\nabundant as (\nSELECT\n    order_items_order_items.`sale_price` as `order_items_sale_price`,\n    order_items_order_items.`order_id` as `order_items_orders_id`,\n    order_items_order_items.`status` as `order_items_status`\nFROM\n    bigquery-public-data.thelook_ecommerce.order_items as order_items_order_items\n),\nexuberant as (\nSELECT\n    abundant.`order_items_sale_price` as `order_items_sale_price`,\n    civet.`order_items_orders_created_at` as `order_items_orders_created_at`,\n    civet.`order_items_orders_item_count` as `order_items_orders_item_count`,\n    abundant.`order_items_orders_id` as `order_items_orders_id`,\n    abundant.`order_items_status` as `order_items_status`\nFROM\n    abundant as abundant\n\nLEFT OUTER JOIN civet on abundant.`order_items_orders_id` = civet.`order_items_orders_id`\n\n),\nshrike as (\nSELECT\n    EXTRACT(MONTH from exuberant.`order_items_orders_created_at`) as `order_items_orders_created_at_month`,\n    exuberant.`order_items_orders_item_count` as `order_items_orders_item_count`,\n    exuberant.`order_items_sale_price` as `order_items_sale_price`\nFROM\n    exuberant as exuberant\n),\nsweltering as (\nSELECT\n    (shrike.`order_items_sale_price` * shrike.`order_items_orders_item_count`) as `order_items_revenue`,\n    shrike.`order_items_orders_created_at_month` as `order_items_orders_created_at_month`\nFROM\n    shrike as shrike\n),\nquick as (\nSELECT\n    (exuberant.`order_items_sale_price` * exuberant.`order_items_orders_item_count`) as `order_items_revenue`,\n    exuberant.`order_items_status` as `order_items_status`\nFROM\n    exuberant as exuberant\n),\nocelot as (\nSELECT\n    quick.`order_items_revenue` as `order_items_bookable_revenue`,\n    quick.`order_items_revenue` as `order_items_revenue`\nFROM\n    quick as quick\nWHERE\n    quick.`order_items_status` in ( 'Shipped' ) \n),\ncourageous as (\nSELECT\n    ocelot.`order_items_bookable_revenue` as `order_items_bookable_revenue`,\n    sweltering.`order_items_revenue` as `order_items_revenue`,\n    sweltering.`order_items_orders_created_at_month` as `order_items_orders_created_at_month`\nFROM\n    ocelot as ocelot\n\nINNER JOIN sweltering on ocelot.`order_items_revenue` = sweltering.`order_items_revenue`\n\n),\nodd as (\nSELECT\n    courageous.`order_items_bookable_revenue` as `order_items_bookable_revenue`,\n    charming.`order_items_orders_created_at_month` as `order_items_orders_created_at_month`\nFROM\n    charming as charming\n\nLEFT OUTER JOIN courageous on charming.`order_items_orders_created_at_month` = courageous.`order_items_orders_created_at_month`\n\n),\nsedate as (\nSELECT\n    sum(odd.`order_items_bookable_revenue`) as `revenue`,\n    odd.`order_items_orders_created_at_month` as `order_items_orders_created_at_month`\nFROM\n    odd as odd\nGROUP BY \n    odd.`order_items_orders_created_at_month`)\nSELECT\n    sedate.`order_items_orders_created_at_month`,\n    sedate.`revenue`\nFROM\n    sedate\n\nORDER BY \n    sedate.`order_items_orders_created_at_month` desc\n]\n(Background on this error at: https://sqlalche.me/e/14/4xp6)"
     ]
    }
   ],
   "source": [
    "QA_3 = \"\"\"\n",
    "property order_items.id.revenue <- order_items.sale_price*order_items.orders.item_count;\n",
    "# shipped, complete, processing\n",
    "auto order_items.bookable_revenue <- filter order_items.revenue where order_items.status IN ( 'Shipped');\n",
    "SELECT \n",
    "    order_items.orders.created_at.month,\n",
    "    sum(order_items.bookable_revenue) -> revenue,\n",
    "ORDER BY order_items.orders.created_at.month DESC;\n",
    "\"\"\"\n",
    "\n",
    "results = executor.execute_text(QA_3)\n"
   ]
  },
  {
   "cell_type": "code",
   "execution_count": null,
   "metadata": {},
   "outputs": [
    {
     "name": "stdout",
     "output_type": "stream",
     "text": [
      "('Hamburg', 0.38461538461538464, 5, 13, 2020)\n",
      "('Berlin', 0.3333333333333333, 10, 30, 2020)\n",
      "('Zhongshan', 0.3333333333333333, 5, 15, 2020)\n",
      "('Zhengzhou', 0.3269230769230769, 17, 52, 2020)\n",
      "('Kunming', 0.3076923076923077, 4, 13, 2020)\n",
      "('Yueyang', 0.3076923076923077, 4, 13, 2020)\n",
      "('Rio de Janeiro', 0.30434782608695654, 7, 23, 2020)\n",
      "('Bucheon City', 0.2727272727272727, 3, 11, 2020)\n",
      "('Los Angeles', 0.2727272727272727, 9, 33, 2020)\n",
      "('Jacksonville', 0.26666666666666666, 4, 15, 2020)\n",
      "('San Antonio', 0.26666666666666666, 4, 15, 2020)\n",
      "('Manaus', 0.2631578947368421, 5, 19, 2020)\n",
      "('Guangzhou', 0.25, 13, 52, 2020)\n",
      "('Dallas', 0.25, 3, 12, 2020)\n",
      "('City of Yantai', 0.25, 3, 12, 2020)\n",
      "(\"Lan'Zhou\", 0.2413793103448276, 7, 29, 2020)\n",
      "('Fort Worth', 0.23529411764705882, 4, 17, 2020)\n",
      "('Paris', 0.23333333333333334, 7, 30, 2020)\n",
      "('Frankfurt am Main', 0.23076923076923078, 3, 13, 2020)\n",
      "('Fuzhou', 0.225, 9, 40, 2020)\n",
      "('Urumqi', 0.21428571428571427, 6, 28, 2020)\n",
      "('Brisbane', 0.21052631578947367, 4, 19, 2020)\n",
      "('Shenzhen', 0.21008403361344538, 25, 119, 2020)\n",
      "('Changsha', 0.2, 4, 20, 2020)\n",
      "('Daegu Metropolitan City', 0.2, 6, 30, 2020)\n",
      "('Huizhou', 0.19444444444444445, 7, 36, 2020)\n",
      "('Yinchuan', 0.1875, 3, 16, 2020)\n",
      "('Dazhou', 0.1875, 3, 16, 2020)\n",
      "('Curitiba', 0.18518518518518517, 5, 27, 2020)\n",
      "('Foshan', 0.18181818181818182, 12, 66, 2020)\n",
      "('Shangrao', 0.18181818181818182, 2, 11, 2020)\n",
      "('Hengyang', 0.17647058823529413, 3, 17, 2020)\n",
      "('Yokohama City', 0.17647058823529413, 3, 17, 2020)\n",
      "('Suzhou', 0.17543859649122806, 10, 57, 2020)\n",
      "('Philadelphia', 0.17391304347826086, 4, 23, 2020)\n",
      "('Las Vegas', 0.1724137931034483, 5, 29, 2020)\n",
      "('Houston', 0.17142857142857143, 6, 35, 2020)\n",
      "('Tokyo', 0.17073170731707318, 14, 82, 2020)\n",
      "('Xiamen', 0.16666666666666666, 7, 42, 2020)\n",
      "('Chongqing', 0.16666666666666666, 7, 42, 2020)\n",
      "('Barcelona', 0.16666666666666666, 3, 18, 2020)\n",
      "('Suwon City', 0.16666666666666666, 4, 24, 2020)\n",
      "('Hangzhou', 0.16666666666666666, 8, 48, 2020)\n",
      "('Chicago', 0.16666666666666666, 4, 24, 2020)\n",
      "('Maoming', 0.16666666666666666, 2, 12, 2020)\n",
      "('Xingtai', 0.16666666666666666, 6, 36, 2020)\n",
      "('Jilin', 0.16666666666666666, 3, 18, 2020)\n",
      "('Luoyang', 0.16666666666666666, 2, 12, 2020)\n",
      "('Handan', 0.16, 8, 50, 2020)\n",
      "('Hefei', 0.16, 4, 25, 2020)\n",
      "('Dongguan', 0.16, 12, 75, 2020)\n",
      "('Wenzhou', 0.15517241379310345, 9, 58, 2020)\n",
      "('München', 0.15384615384615385, 2, 13, 2020)\n",
      "('Taiyuan', 0.15384615384615385, 4, 26, 2020)\n",
      "('Liuzhou', 0.15384615384615385, 2, 13, 2020)\n",
      "('Brasília', 0.15151515151515152, 5, 33, 2020)\n",
      "('Seoul', 0.15060240963855423, 25, 166, 2020)\n",
      "('Shan Tou', 0.14814814814814814, 8, 54, 2020)\n",
      "('Beijing', 0.14767932489451477, 35, 237, 2020)\n",
      "('London', 0.14285714285714285, 6, 42, 2020)\n",
      "('Jieyang', 0.14285714285714285, 2, 14, 2020)\n",
      "('Taizhou', 0.14285714285714285, 4, 28, 2020)\n",
      "('Sydney', 0.1388888888888889, 5, 36, 2020)\n",
      "('Madrid', 0.1388888888888889, 5, 36, 2020)\n",
      "('Shanghai', 0.13157894736842105, 30, 228, 2020)\n",
      "('Dalian', 0.13043478260869565, 3, 23, 2020)\n",
      "('Yongin City', 0.13043478260869565, 3, 23, 2020)\n",
      "('New York', 0.12903225806451613, 8, 62, 2020)\n",
      "('Ordos', 0.125, 2, 16, 2020)\n",
      "('Nanjing', 0.12, 6, 50, 2020)\n",
      "(\"Xi'an\", 0.12, 3, 25, 2020)\n",
      "('Changchun', 0.11904761904761904, 5, 42, 2020)\n",
      "('Duque de Caxias', 0.11764705882352941, 2, 17, 2020)\n",
      "('Tianjin', 0.11594202898550725, 8, 69, 2020)\n",
      "('Incheon Metropolitan City', 0.11428571428571428, 4, 35, 2020)\n",
      "('São Paulo', 0.11363636363636363, 5, 44, 2020)\n",
      "('Huaibei', 0.1111111111111111, 2, 18, 2020)\n",
      "('Shenyang', 0.10714285714285714, 3, 28, 2020)\n",
      "('Fortaleza', 0.10714285714285714, 3, 28, 2020)\n",
      "('Chengdu', 0.10666666666666667, 8, 75, 2020)\n",
      "('Wuhan', 0.10588235294117647, 9, 85, 2020)\n",
      "('null', 0.10227272727272728, 9, 88, 2020)\n",
      "('Baoding', 0.1, 3, 30, 2020)\n",
      "('Harbin', 0.1, 3, 30, 2020)\n",
      "('Guiyang', 0.1, 4, 40, 2020)\n",
      "('Busan', 0.1, 5, 50, 2020)\n",
      "('São Luís', 0.09090909090909091, 2, 22, 2020)\n",
      "('Anyang City', 0.09090909090909091, 1, 11, 2020)\n",
      "('Dandong', 0.09090909090909091, 1, 11, 2020)\n",
      "('Uberlândia', 0.09090909090909091, 1, 11, 2020)\n",
      "('Gwangju', 0.09090909090909091, 1, 11, 2020)\n",
      "('Ganzhou', 0.09090909090909091, 1, 11, 2020)\n",
      "('Ningbo', 0.08695652173913043, 2, 23, 2020)\n",
      "('Jinan', 0.08333333333333333, 2, 24, 2020)\n",
      "('Parauapebas', 0.08333333333333333, 1, 12, 2020)\n",
      "('Bogatynia', 0.08333333333333333, 1, 12, 2020)\n",
      "('Shijiazhuang', 0.07692307692307693, 2, 26, 2020)\n",
      "('Nanchang', 0.07692307692307693, 1, 13, 2020)\n",
      "('Zhangzhou', 0.06818181818181818, 3, 44, 2020)\n",
      "('Salvador', 0.06666666666666667, 3, 45, 2020)\n",
      "('NanNing', 0.06666666666666667, 1, 15, 2020)\n",
      "('Huaihua', 0.06666666666666667, 1, 15, 2020)\n",
      "('Daejeon', 0.058823529411764705, 1, 17, 2020)\n",
      "('Hwaseong City', 0.058823529411764705, 1, 17, 2020)\n",
      "('Baotou', 0.05555555555555555, 1, 18, 2020)\n",
      "('Phoenix', 0.05263157894736842, 1, 19, 2020)\n",
      "('Jiangmen', 0.047619047619047616, 1, 21, 2020)\n",
      "('Quanzhou', 0.045454545454545456, 1, 22, 2020)\n",
      "('Qingdao', 0.045454545454545456, 1, 22, 2020)\n",
      "('Melbourne', 0.04, 1, 25, 2020)\n"
     ]
    }
   ],
   "source": [
    "for row in results[0]:\n",
    "    print(row)"
   ]
  }
 ],
 "metadata": {
  "kernelspec": {
   "display_name": ".venv",
   "language": "python",
   "name": "python3"
  },
  "language_info": {
   "codemirror_mode": {
    "name": "ipython",
    "version": 3
   },
   "file_extension": ".py",
   "mimetype": "text/x-python",
   "name": "python",
   "nbconvert_exporter": "python",
   "pygments_lexer": "ipython3",
   "version": "3.11.3"
  }
 },
 "nbformat": 4,
 "nbformat_minor": 2
}
