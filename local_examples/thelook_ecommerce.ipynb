{
 "cells": [
  {
   "cell_type": "code",
   "execution_count": 1,
   "metadata": {},
   "outputs": [
    {
     "data": {
      "text/plain": [
       "'c:\\\\Users\\\\ethan\\\\coding_projects\\\\trilogy-public-models\\\\local_examples'"
      ]
     },
     "execution_count": 1,
     "metadata": {},
     "output_type": "execute_result"
    }
   ],
   "source": [
    "import os\n",
    "nb_path = os.path.abspath(\"\")\n",
    "from sys import path\n",
    "from os.path import dirname\n",
    "\n",
    "path.insert(0,  dirname(nb_path))\n",
    "\n",
    "nb_path"
   ]
  },
  {
   "cell_type": "code",
   "execution_count": 2,
   "metadata": {},
   "outputs": [],
   "source": [
    "from preql import Dialects\n",
    "from trilogy_public_models import models\n",
    "env = models[\"bigquery.thelook_ecommerce\"]\n",
    "\n",
    "executor = Dialects.BIGQUERY.default_executor(environment=env)"
   ]
  },
  {
   "cell_type": "code",
   "execution_count": 3,
   "metadata": {},
   "outputs": [],
   "source": [
    "QA_3 = \"\"\"\n",
    "\n",
    "key cancelled_orders <- filter orders.id where orders.status = 'Cancelled';\n",
    "auto orders.id.cancelled_count <- count(cancelled_orders);\n",
    "\n",
    "SELECT\n",
    "    orders.users.city,\n",
    "    orders.id.cancelled_count / orders.id.count -> cancellation_rate,\n",
    "    orders.id.cancelled_count,\n",
    "    orders.id.count,\n",
    "    orders.created_at.year,\n",
    "WHERE\n",
    "    (orders.created_at.year = 2020)\n",
    "    and orders.id.count>10\n",
    "ORDER BY\n",
    "    cancellation_rate desc;\n",
    "\"\"\"\n",
    "\n",
    "results = executor.execute_text(QA_3)\n"
   ]
  },
  {
   "cell_type": "code",
   "execution_count": 4,
   "metadata": {},
   "outputs": [
    {
     "name": "stdout",
     "output_type": "stream",
     "text": [
      "('Cancelled', 26989)\n",
      "('Complete', 45480)\n",
      "('Processing', 36446)\n",
      "('Shipped', 53868)\n",
      "('Returned', 18209)\n"
     ]
    }
   ],
   "source": [
    "QA_3 = \"\"\"\n",
    "SELECT \n",
    "    order_items.status,\n",
    "    count(order_items.status)->count\n",
    ";\n",
    "\"\"\"\n",
    "\n",
    "results = executor.execute_text(QA_3)\n",
    "for row in results[0]:\n",
    "    print(row)\n"
   ]
  },
  {
   "cell_type": "code",
   "execution_count": 5,
   "metadata": {},
   "outputs": [],
   "source": [
    "QA_3 = \"\"\"\n",
    "property order_items.id.revenue <- order_items.sale_price*order_items.orders.item_count;\n",
    "# shipped, complete, processing\n",
    "auto order_items.bookable_revenue <- filter order_items.revenue where order_items.status IN ( 'Shipped');\n",
    "\n",
    "rowset booked_rev <- SELECT\n",
    "    order_items.orders.created_at.month,\n",
    "    order_items.revenue,\n",
    "    order_items.status\n",
    "where order_items.status in ('Shipped');\n",
    "\n",
    "SELECT \n",
    "    booked_rev.order_items.orders.created_at.month,\n",
    "    sum(booked_rev.order_items.revenue) -> bookable_revenue,\n",
    "ORDER BY \n",
    "    booked_rev.order_items.orders.created_at.month DESC;\n",
    "\"\"\"\n",
    "\n",
    "results = executor.execute_text(QA_3)\n"
   ]
  },
  {
   "cell_type": "code",
   "execution_count": 6,
   "metadata": {},
   "outputs": [
    {
     "name": "stdout",
     "output_type": "stream",
     "text": [
      "(12, 473807.6303511411)\n",
      "(11, 432260.82053734735)\n",
      "(10, 424294.310325861)\n",
      "(9, 411811.33041501045)\n",
      "(8, 370991.02048921585)\n",
      "(7, 361968.950483799)\n",
      "(6, 358162.1802742481)\n",
      "(5, 967106.9208650589)\n",
      "(4, 628281.8108203411)\n",
      "(3, 605247.5007376671)\n",
      "(2, 510985.94054055214)\n",
      "(1, 503019.36043047905)\n"
     ]
    }
   ],
   "source": [
    "for row in results[0]:\n",
    "    print(row)"
   ]
  }
 ],
 "metadata": {
  "kernelspec": {
   "display_name": ".venv",
   "language": "python",
   "name": "python3"
  },
  "language_info": {
   "codemirror_mode": {
    "name": "ipython",
    "version": 3
   },
   "file_extension": ".py",
   "mimetype": "text/x-python",
   "name": "python",
   "nbconvert_exporter": "python",
   "pygments_lexer": "ipython3",
   "version": "3.11.3"
  }
 },
 "nbformat": 4,
 "nbformat_minor": 2
}
