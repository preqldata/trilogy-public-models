{
 "cells": [
  {
   "cell_type": "code",
   "execution_count": 1,
   "metadata": {},
   "outputs": [
    {
     "data": {
      "text/plain": [
       "'c:\\\\Users\\\\ethan\\\\coding_projects\\\\trilogy-public-models\\\\local_examples'"
      ]
     },
     "execution_count": 1,
     "metadata": {},
     "output_type": "execute_result"
    }
   ],
   "source": [
    "import os\n",
    "nb_path = os.path.abspath(\"\")\n",
    "from sys import path\n",
    "from os.path import dirname\n",
    "\n",
    "path.insert(0,  dirname(nb_path))\n",
    "\n",
    "nb_path"
   ]
  },
  {
   "cell_type": "code",
   "execution_count": 2,
   "metadata": {},
   "outputs": [],
   "source": [
    "from preql import Dialects\n",
    "from trilogy_public_models import models\n",
    "env = models[\"bigquery.thelook_ecommerce\"]\n",
    "\n",
    "executor = Dialects.BIGQUERY.default_executor(environment=env)"
   ]
  },
  {
   "cell_type": "code",
   "execution_count": 4,
   "metadata": {},
   "outputs": [],
   "source": [
    "QA_3 = \"\"\"\n",
    "\n",
    "key cancelled_orders <- filter orders.id where orders.status = 'Cancelled';\n",
    "auto orders.id.cancelled_count <- count(cancelled_orders);\n",
    "\n",
    "SELECT\n",
    "    orders.users.city,\n",
    "    orders.id.cancelled_count / orders.id.count -> cancellation_rate,\n",
    "    orders.id.cancelled_count,\n",
    "    orders.id.count,\n",
    "    orders.created_at.year,\n",
    "WHERE\n",
    "    (orders.created_at.year = 2020)\n",
    "    and orders.id.count>10\n",
    "ORDER BY\n",
    "    cancellation_rate desc;\n",
    "\"\"\"\n",
    "\n",
    "results = executor.execute_text(QA_3)\n"
   ]
  },
  {
   "cell_type": "code",
   "execution_count": null,
   "metadata": {},
   "outputs": [
    {
     "name": "stdout",
     "output_type": "stream",
     "text": [
      "('Shipped', 54205)\n",
      "('Complete', 45413)\n",
      "('Processing', 36172)\n",
      "('Returned', 18200)\n",
      "('Cancelled', 26985)\n"
     ]
    }
   ],
   "source": [
    "QA_3 = \"\"\"\n",
    "SELECT \n",
    "    order_items.status,\n",
    "    count(order_items.status)->count\n",
    ";\n",
    "\"\"\"\n",
    "\n",
    "results = executor.execute_text(QA_3)\n",
    "for row in results[0]:\n",
    "    print(row)\n"
   ]
  },
  {
   "cell_type": "code",
   "execution_count": null,
   "metadata": {},
   "outputs": [
    {
     "ename": "VisitError",
     "evalue": "Error trying to process rule \"COMPARISON_OPERATOR\":\n\nToken('COMPARISON_OPERATOR', 'IN') is not a valid ComparisonOperator",
     "output_type": "error",
     "traceback": [
      "\u001b[1;31m---------------------------------------------------------------------------\u001b[0m",
      "\u001b[1;31mValueError\u001b[0m                                Traceback (most recent call last)",
      "File \u001b[1;32mc:\\Users\\ethan\\coding_projects\\trilogy-public-models\\.venv\\Lib\\site-packages\\lark\\visitors.py:137\u001b[0m, in \u001b[0;36mTransformer._call_userfunc_token\u001b[1;34m(self, token)\u001b[0m\n\u001b[0;32m    136\u001b[0m \u001b[39mtry\u001b[39;00m:\n\u001b[1;32m--> 137\u001b[0m     \u001b[39mreturn\u001b[39;00m f(token)\n\u001b[0;32m    138\u001b[0m \u001b[39mexcept\u001b[39;00m GrammarError:\n",
      "File \u001b[1;32mc:\\Users\\ethan\\coding_projects\\trilogy-public-models\\.venv\\Lib\\site-packages\\preql\\parsing\\parse_engine.py:445\u001b[0m, in \u001b[0;36mParseToObjects.COMPARISON_OPERATOR\u001b[1;34m(self, args)\u001b[0m\n\u001b[0;32m    444\u001b[0m \u001b[39mdef\u001b[39;00m \u001b[39mCOMPARISON_OPERATOR\u001b[39m(\u001b[39mself\u001b[39m, args) \u001b[39m-\u001b[39m\u001b[39m>\u001b[39m ComparisonOperator:\n\u001b[1;32m--> 445\u001b[0m     \u001b[39mreturn\u001b[39;00m ComparisonOperator(args)\n",
      "File \u001b[1;32mC:\\Program Files\\Python311\\Lib\\enum.py:714\u001b[0m, in \u001b[0;36mEnumType.__call__\u001b[1;34m(cls, value, names, module, qualname, type, start, boundary)\u001b[0m\n\u001b[0;32m    713\u001b[0m \u001b[39mif\u001b[39;00m names \u001b[39mis\u001b[39;00m \u001b[39mNone\u001b[39;00m:  \u001b[39m# simple value lookup\u001b[39;00m\n\u001b[1;32m--> 714\u001b[0m     \u001b[39mreturn\u001b[39;00m \u001b[39mcls\u001b[39;49m\u001b[39m.\u001b[39;49m\u001b[39m__new__\u001b[39;49m(\u001b[39mcls\u001b[39;49m, value)\n\u001b[0;32m    715\u001b[0m \u001b[39m# otherwise, functional API: we're creating a new Enum type\u001b[39;00m\n",
      "File \u001b[1;32mC:\\Program Files\\Python311\\Lib\\enum.py:1130\u001b[0m, in \u001b[0;36mEnum.__new__\u001b[1;34m(cls, value)\u001b[0m\n\u001b[0;32m   1129\u001b[0m \u001b[39mif\u001b[39;00m result \u001b[39mis\u001b[39;00m \u001b[39mNone\u001b[39;00m \u001b[39mand\u001b[39;00m exc \u001b[39mis\u001b[39;00m \u001b[39mNone\u001b[39;00m:\n\u001b[1;32m-> 1130\u001b[0m     \u001b[39mraise\u001b[39;00m ve_exc\n\u001b[0;32m   1131\u001b[0m \u001b[39melif\u001b[39;00m exc \u001b[39mis\u001b[39;00m \u001b[39mNone\u001b[39;00m:\n",
      "\u001b[1;31mValueError\u001b[0m: Token('COMPARISON_OPERATOR', 'IN') is not a valid ComparisonOperator",
      "\nDuring handling of the above exception, another exception occurred:\n",
      "\u001b[1;31mVisitError\u001b[0m                                Traceback (most recent call last)",
      "\u001b[1;32mc:\\Users\\ethan\\coding_projects\\trilogy-public-models\\local_examples\\thelook_ecommerce.ipynb Cell 5\u001b[0m line \u001b[0;36m1\n\u001b[0;32m      <a href='vscode-notebook-cell:/c%3A/Users/ethan/coding_projects/trilogy-public-models/local_examples/thelook_ecommerce.ipynb#W4sZmlsZQ%3D%3D?line=0'>1</a>\u001b[0m QA_3 \u001b[39m=\u001b[39m \u001b[39m\"\"\"\u001b[39m\n\u001b[0;32m      <a href='vscode-notebook-cell:/c%3A/Users/ethan/coding_projects/trilogy-public-models/local_examples/thelook_ecommerce.ipynb#W4sZmlsZQ%3D%3D?line=1'>2</a>\u001b[0m \u001b[39mproperty order_items.id.revenue <- order_items.sale_price*orders.num_of_item;\u001b[39m\n\u001b[0;32m      <a href='vscode-notebook-cell:/c%3A/Users/ethan/coding_projects/trilogy-public-models/local_examples/thelook_ecommerce.ipynb#W4sZmlsZQ%3D%3D?line=2'>3</a>\u001b[0m \u001b[39m# shipped, complete, processing\u001b[39m\n\u001b[1;32m   (...)\u001b[0m\n\u001b[0;32m      <a href='vscode-notebook-cell:/c%3A/Users/ethan/coding_projects/trilogy-public-models/local_examples/thelook_ecommerce.ipynb#W4sZmlsZQ%3D%3D?line=7'>8</a>\u001b[0m \u001b[39mORDER BY 1 DESC;\u001b[39m\n\u001b[0;32m      <a href='vscode-notebook-cell:/c%3A/Users/ethan/coding_projects/trilogy-public-models/local_examples/thelook_ecommerce.ipynb#W4sZmlsZQ%3D%3D?line=8'>9</a>\u001b[0m \u001b[39m\"\"\"\u001b[39m\n\u001b[1;32m---> <a href='vscode-notebook-cell:/c%3A/Users/ethan/coding_projects/trilogy-public-models/local_examples/thelook_ecommerce.ipynb#W4sZmlsZQ%3D%3D?line=10'>11</a>\u001b[0m results \u001b[39m=\u001b[39m executor\u001b[39m.\u001b[39;49mexecute_text(QA_3)\n",
      "File \u001b[1;32mc:\\Users\\ethan\\coding_projects\\trilogy-public-models\\.venv\\Lib\\site-packages\\preql\\executor.py:88\u001b[0m, in \u001b[0;36mExecutor.execute_text\u001b[1;34m(self, command)\u001b[0m\n\u001b[0;32m     86\u001b[0m \u001b[39mdef\u001b[39;00m \u001b[39mexecute_text\u001b[39m(\u001b[39mself\u001b[39m, command: \u001b[39mstr\u001b[39m) \u001b[39m-\u001b[39m\u001b[39m>\u001b[39m List[CursorResult]:\n\u001b[0;32m     87\u001b[0m \u001b[39m    \u001b[39m\u001b[39m\"\"\"Run a preql text command\"\"\"\u001b[39;00m\n\u001b[1;32m---> 88\u001b[0m     sql \u001b[39m=\u001b[39m \u001b[39mself\u001b[39;49m\u001b[39m.\u001b[39;49mparse_text(command)\n\u001b[0;32m     89\u001b[0m     output \u001b[39m=\u001b[39m []\n\u001b[0;32m     90\u001b[0m     \u001b[39m# connection = self.engine.connect()\u001b[39;00m\n",
      "File \u001b[1;32mc:\\Users\\ethan\\coding_projects\\trilogy-public-models\\.venv\\Lib\\site-packages\\preql\\executor.py:75\u001b[0m, in \u001b[0;36mExecutor.parse_text\u001b[1;34m(self, command)\u001b[0m\n\u001b[0;32m     73\u001b[0m \u001b[39mdef\u001b[39;00m \u001b[39mparse_text\u001b[39m(\u001b[39mself\u001b[39m, command: \u001b[39mstr\u001b[39m) \u001b[39m-\u001b[39m\u001b[39m>\u001b[39m List[ProcessedQuery \u001b[39m|\u001b[39m ProcessedQueryPersist]:\n\u001b[0;32m     74\u001b[0m \u001b[39m    \u001b[39m\u001b[39m\"\"\"Process a preql text command\"\"\"\u001b[39;00m\n\u001b[1;32m---> 75\u001b[0m     _, parsed \u001b[39m=\u001b[39m parse_text(command, \u001b[39mself\u001b[39;49m\u001b[39m.\u001b[39;49menvironment)\n\u001b[0;32m     76\u001b[0m     sql \u001b[39m=\u001b[39m \u001b[39mself\u001b[39m\u001b[39m.\u001b[39mgenerator\u001b[39m.\u001b[39mgenerate_queries(\n\u001b[0;32m     77\u001b[0m         \u001b[39mself\u001b[39m\u001b[39m.\u001b[39menvironment, parsed, hooks\u001b[39m=\u001b[39m\u001b[39mself\u001b[39m\u001b[39m.\u001b[39mhooks\n\u001b[0;32m     78\u001b[0m     )\n\u001b[0;32m     79\u001b[0m     \u001b[39mreturn\u001b[39;00m sql\n",
      "File \u001b[1;32mc:\\Users\\ethan\\coding_projects\\trilogy-public-models\\.venv\\Lib\\site-packages\\preql\\parsing\\parse_engine.py:1423\u001b[0m, in \u001b[0;36mparse_text\u001b[1;34m(text, environment)\u001b[0m\n\u001b[0;32m   1421\u001b[0m     output \u001b[39m=\u001b[39m [v \u001b[39mfor\u001b[39;00m v \u001b[39min\u001b[39;00m parser\u001b[39m.\u001b[39mtransform(PARSER\u001b[39m.\u001b[39mparse(text)) \u001b[39mif\u001b[39;00m v]\n\u001b[0;32m   1422\u001b[0m \u001b[39mexcept\u001b[39;00m VisitError \u001b[39mas\u001b[39;00m e:\n\u001b[1;32m-> 1423\u001b[0m     unpack_visit_error(e)\n\u001b[0;32m   1424\u001b[0m     \u001b[39m# this will never be reached\u001b[39;00m\n\u001b[0;32m   1425\u001b[0m     \u001b[39mraise\u001b[39;00m e\n",
      "File \u001b[1;32mc:\\Users\\ethan\\coding_projects\\trilogy-public-models\\.venv\\Lib\\site-packages\\preql\\parsing\\parse_engine.py:1412\u001b[0m, in \u001b[0;36munpack_visit_error\u001b[1;34m(e)\u001b[0m\n\u001b[0;32m   1410\u001b[0m \u001b[39melif\u001b[39;00m \u001b[39misinstance\u001b[39m(e\u001b[39m.\u001b[39morig_exc, ValidationError):\n\u001b[0;32m   1411\u001b[0m     \u001b[39mraise\u001b[39;00m InvalidSyntaxException(\u001b[39mstr\u001b[39m(e\u001b[39m.\u001b[39morig_exc))\n\u001b[1;32m-> 1412\u001b[0m \u001b[39mraise\u001b[39;00m e\n",
      "File \u001b[1;32mc:\\Users\\ethan\\coding_projects\\trilogy-public-models\\.venv\\Lib\\site-packages\\preql\\parsing\\parse_engine.py:1421\u001b[0m, in \u001b[0;36mparse_text\u001b[1;34m(text, environment)\u001b[0m\n\u001b[0;32m   1419\u001b[0m parser \u001b[39m=\u001b[39m ParseToObjects(visit_tokens\u001b[39m=\u001b[39m\u001b[39mTrue\u001b[39;00m, text\u001b[39m=\u001b[39mtext, environment\u001b[39m=\u001b[39menvironment)\n\u001b[0;32m   1420\u001b[0m \u001b[39mtry\u001b[39;00m:\n\u001b[1;32m-> 1421\u001b[0m     output \u001b[39m=\u001b[39m [v \u001b[39mfor\u001b[39;00m v \u001b[39min\u001b[39;00m parser\u001b[39m.\u001b[39;49mtransform(PARSER\u001b[39m.\u001b[39;49mparse(text)) \u001b[39mif\u001b[39;00m v]\n\u001b[0;32m   1422\u001b[0m \u001b[39mexcept\u001b[39;00m VisitError \u001b[39mas\u001b[39;00m e:\n\u001b[0;32m   1423\u001b[0m     unpack_visit_error(e)\n",
      "File \u001b[1;32mc:\\Users\\ethan\\coding_projects\\trilogy-public-models\\.venv\\Lib\\site-packages\\lark\\visitors.py:161\u001b[0m, in \u001b[0;36mTransformer.transform\u001b[1;34m(self, tree)\u001b[0m\n\u001b[0;32m    159\u001b[0m \u001b[39mdef\u001b[39;00m \u001b[39mtransform\u001b[39m(\u001b[39mself\u001b[39m, tree: Tree[_Leaf_T]) \u001b[39m-\u001b[39m\u001b[39m>\u001b[39m _Return_T:\n\u001b[0;32m    160\u001b[0m     \u001b[39m\"\u001b[39m\u001b[39mTransform the given tree, and return the final result\u001b[39m\u001b[39m\"\u001b[39m\n\u001b[1;32m--> 161\u001b[0m     \u001b[39mreturn\u001b[39;00m \u001b[39mself\u001b[39;49m\u001b[39m.\u001b[39;49m_transform_tree(tree)\n",
      "File \u001b[1;32mc:\\Users\\ethan\\coding_projects\\trilogy-public-models\\.venv\\Lib\\site-packages\\lark\\visitors.py:156\u001b[0m, in \u001b[0;36mTransformer._transform_tree\u001b[1;34m(self, tree)\u001b[0m\n\u001b[0;32m    155\u001b[0m \u001b[39mdef\u001b[39;00m \u001b[39m_transform_tree\u001b[39m(\u001b[39mself\u001b[39m, tree):\n\u001b[1;32m--> 156\u001b[0m     children \u001b[39m=\u001b[39m \u001b[39mlist\u001b[39m(\u001b[39mself\u001b[39m\u001b[39m.\u001b[39m_transform_children(tree\u001b[39m.\u001b[39mchildren))\n\u001b[0;32m    157\u001b[0m     \u001b[39mreturn\u001b[39;00m \u001b[39mself\u001b[39m\u001b[39m.\u001b[39m_call_userfunc(tree, children)\n",
      "File \u001b[1;32mc:\\Users\\ethan\\coding_projects\\trilogy-public-models\\.venv\\Lib\\site-packages\\lark\\visitors.py:146\u001b[0m, in \u001b[0;36mTransformer._transform_children\u001b[1;34m(self, children)\u001b[0m\n\u001b[0;32m    144\u001b[0m \u001b[39mfor\u001b[39;00m c \u001b[39min\u001b[39;00m children:\n\u001b[0;32m    145\u001b[0m     \u001b[39mif\u001b[39;00m \u001b[39misinstance\u001b[39m(c, Tree):\n\u001b[1;32m--> 146\u001b[0m         res \u001b[39m=\u001b[39m \u001b[39mself\u001b[39;49m\u001b[39m.\u001b[39;49m_transform_tree(c)\n\u001b[0;32m    147\u001b[0m     \u001b[39melif\u001b[39;00m \u001b[39mself\u001b[39m\u001b[39m.\u001b[39m__visit_tokens__ \u001b[39mand\u001b[39;00m \u001b[39misinstance\u001b[39m(c, Token):\n\u001b[0;32m    148\u001b[0m         res \u001b[39m=\u001b[39m \u001b[39mself\u001b[39m\u001b[39m.\u001b[39m_call_userfunc_token(c)\n",
      "File \u001b[1;32mc:\\Users\\ethan\\coding_projects\\trilogy-public-models\\.venv\\Lib\\site-packages\\lark\\visitors.py:156\u001b[0m, in \u001b[0;36mTransformer._transform_tree\u001b[1;34m(self, tree)\u001b[0m\n\u001b[0;32m    155\u001b[0m \u001b[39mdef\u001b[39;00m \u001b[39m_transform_tree\u001b[39m(\u001b[39mself\u001b[39m, tree):\n\u001b[1;32m--> 156\u001b[0m     children \u001b[39m=\u001b[39m \u001b[39mlist\u001b[39m(\u001b[39mself\u001b[39m\u001b[39m.\u001b[39m_transform_children(tree\u001b[39m.\u001b[39mchildren))\n\u001b[0;32m    157\u001b[0m     \u001b[39mreturn\u001b[39;00m \u001b[39mself\u001b[39m\u001b[39m.\u001b[39m_call_userfunc(tree, children)\n",
      "File \u001b[1;32mc:\\Users\\ethan\\coding_projects\\trilogy-public-models\\.venv\\Lib\\site-packages\\lark\\visitors.py:146\u001b[0m, in \u001b[0;36mTransformer._transform_children\u001b[1;34m(self, children)\u001b[0m\n\u001b[0;32m    144\u001b[0m \u001b[39mfor\u001b[39;00m c \u001b[39min\u001b[39;00m children:\n\u001b[0;32m    145\u001b[0m     \u001b[39mif\u001b[39;00m \u001b[39misinstance\u001b[39m(c, Tree):\n\u001b[1;32m--> 146\u001b[0m         res \u001b[39m=\u001b[39m \u001b[39mself\u001b[39;49m\u001b[39m.\u001b[39;49m_transform_tree(c)\n\u001b[0;32m    147\u001b[0m     \u001b[39melif\u001b[39;00m \u001b[39mself\u001b[39m\u001b[39m.\u001b[39m__visit_tokens__ \u001b[39mand\u001b[39;00m \u001b[39misinstance\u001b[39m(c, Token):\n\u001b[0;32m    148\u001b[0m         res \u001b[39m=\u001b[39m \u001b[39mself\u001b[39m\u001b[39m.\u001b[39m_call_userfunc_token(c)\n",
      "    \u001b[1;31m[... skipping similar frames: Transformer._transform_tree at line 156 (6 times), Transformer._transform_children at line 146 (5 times)]\u001b[0m\n",
      "File \u001b[1;32mc:\\Users\\ethan\\coding_projects\\trilogy-public-models\\.venv\\Lib\\site-packages\\lark\\visitors.py:146\u001b[0m, in \u001b[0;36mTransformer._transform_children\u001b[1;34m(self, children)\u001b[0m\n\u001b[0;32m    144\u001b[0m \u001b[39mfor\u001b[39;00m c \u001b[39min\u001b[39;00m children:\n\u001b[0;32m    145\u001b[0m     \u001b[39mif\u001b[39;00m \u001b[39misinstance\u001b[39m(c, Tree):\n\u001b[1;32m--> 146\u001b[0m         res \u001b[39m=\u001b[39m \u001b[39mself\u001b[39;49m\u001b[39m.\u001b[39;49m_transform_tree(c)\n\u001b[0;32m    147\u001b[0m     \u001b[39melif\u001b[39;00m \u001b[39mself\u001b[39m\u001b[39m.\u001b[39m__visit_tokens__ \u001b[39mand\u001b[39;00m \u001b[39misinstance\u001b[39m(c, Token):\n\u001b[0;32m    148\u001b[0m         res \u001b[39m=\u001b[39m \u001b[39mself\u001b[39m\u001b[39m.\u001b[39m_call_userfunc_token(c)\n",
      "File \u001b[1;32mc:\\Users\\ethan\\coding_projects\\trilogy-public-models\\.venv\\Lib\\site-packages\\lark\\visitors.py:156\u001b[0m, in \u001b[0;36mTransformer._transform_tree\u001b[1;34m(self, tree)\u001b[0m\n\u001b[0;32m    155\u001b[0m \u001b[39mdef\u001b[39;00m \u001b[39m_transform_tree\u001b[39m(\u001b[39mself\u001b[39m, tree):\n\u001b[1;32m--> 156\u001b[0m     children \u001b[39m=\u001b[39m \u001b[39mlist\u001b[39m(\u001b[39mself\u001b[39m\u001b[39m.\u001b[39m_transform_children(tree\u001b[39m.\u001b[39mchildren))\n\u001b[0;32m    157\u001b[0m     \u001b[39mreturn\u001b[39;00m \u001b[39mself\u001b[39m\u001b[39m.\u001b[39m_call_userfunc(tree, children)\n",
      "File \u001b[1;32mc:\\Users\\ethan\\coding_projects\\trilogy-public-models\\.venv\\Lib\\site-packages\\lark\\visitors.py:148\u001b[0m, in \u001b[0;36mTransformer._transform_children\u001b[1;34m(self, children)\u001b[0m\n\u001b[0;32m    146\u001b[0m     res \u001b[39m=\u001b[39m \u001b[39mself\u001b[39m\u001b[39m.\u001b[39m_transform_tree(c)\n\u001b[0;32m    147\u001b[0m \u001b[39melif\u001b[39;00m \u001b[39mself\u001b[39m\u001b[39m.\u001b[39m__visit_tokens__ \u001b[39mand\u001b[39;00m \u001b[39misinstance\u001b[39m(c, Token):\n\u001b[1;32m--> 148\u001b[0m     res \u001b[39m=\u001b[39m \u001b[39mself\u001b[39;49m\u001b[39m.\u001b[39;49m_call_userfunc_token(c)\n\u001b[0;32m    149\u001b[0m \u001b[39melse\u001b[39;00m:\n\u001b[0;32m    150\u001b[0m     res \u001b[39m=\u001b[39m c\n",
      "File \u001b[1;32mc:\\Users\\ethan\\coding_projects\\trilogy-public-models\\.venv\\Lib\\site-packages\\lark\\visitors.py:141\u001b[0m, in \u001b[0;36mTransformer._call_userfunc_token\u001b[1;34m(self, token)\u001b[0m\n\u001b[0;32m    139\u001b[0m     \u001b[39mraise\u001b[39;00m\n\u001b[0;32m    140\u001b[0m \u001b[39mexcept\u001b[39;00m \u001b[39mException\u001b[39;00m \u001b[39mas\u001b[39;00m e:\n\u001b[1;32m--> 141\u001b[0m     \u001b[39mraise\u001b[39;00m VisitError(token\u001b[39m.\u001b[39mtype, token, e)\n",
      "\u001b[1;31mVisitError\u001b[0m: Error trying to process rule \"COMPARISON_OPERATOR\":\n\nToken('COMPARISON_OPERATOR', 'IN') is not a valid ComparisonOperator"
     ]
    }
   ],
   "source": [
    "QA_3 = \"\"\"\n",
    "property order_items.id.revenue <- order_items.sale_price*orders.num_of_item;\n",
    "# shipped, complete, processing\n",
    "key order_items.bookable_revenue <- filter order_items.revenue where order_items.status IN ( 'Shipped');\n",
    "SELECT \n",
    "    orders.create_at.month,\n",
    "    sum(order_items.bookable_revenue) -> revenue,\n",
    "ORDER BY 1 DESC;\n",
    "\"\"\"\n",
    "\n",
    "results = executor.execute_text(QA_3)\n"
   ]
  },
  {
   "cell_type": "code",
   "execution_count": null,
   "metadata": {},
   "outputs": [
    {
     "name": "stdout",
     "output_type": "stream",
     "text": [
      "('Hamburg', 0.38461538461538464, 5, 13, 2020)\n",
      "('Berlin', 0.3333333333333333, 10, 30, 2020)\n",
      "('Zhongshan', 0.3333333333333333, 5, 15, 2020)\n",
      "('Zhengzhou', 0.3269230769230769, 17, 52, 2020)\n",
      "('Kunming', 0.3076923076923077, 4, 13, 2020)\n",
      "('Yueyang', 0.3076923076923077, 4, 13, 2020)\n",
      "('Rio de Janeiro', 0.30434782608695654, 7, 23, 2020)\n",
      "('Bucheon City', 0.2727272727272727, 3, 11, 2020)\n",
      "('Los Angeles', 0.2727272727272727, 9, 33, 2020)\n",
      "('Jacksonville', 0.26666666666666666, 4, 15, 2020)\n",
      "('San Antonio', 0.26666666666666666, 4, 15, 2020)\n",
      "('Manaus', 0.2631578947368421, 5, 19, 2020)\n",
      "('Guangzhou', 0.25, 13, 52, 2020)\n",
      "('Dallas', 0.25, 3, 12, 2020)\n",
      "('City of Yantai', 0.25, 3, 12, 2020)\n",
      "(\"Lan'Zhou\", 0.2413793103448276, 7, 29, 2020)\n",
      "('Fort Worth', 0.23529411764705882, 4, 17, 2020)\n",
      "('Paris', 0.23333333333333334, 7, 30, 2020)\n",
      "('Frankfurt am Main', 0.23076923076923078, 3, 13, 2020)\n",
      "('Fuzhou', 0.225, 9, 40, 2020)\n",
      "('Urumqi', 0.21428571428571427, 6, 28, 2020)\n",
      "('Brisbane', 0.21052631578947367, 4, 19, 2020)\n",
      "('Shenzhen', 0.21008403361344538, 25, 119, 2020)\n",
      "('Changsha', 0.2, 4, 20, 2020)\n",
      "('Daegu Metropolitan City', 0.2, 6, 30, 2020)\n",
      "('Huizhou', 0.19444444444444445, 7, 36, 2020)\n",
      "('Yinchuan', 0.1875, 3, 16, 2020)\n",
      "('Dazhou', 0.1875, 3, 16, 2020)\n",
      "('Curitiba', 0.18518518518518517, 5, 27, 2020)\n",
      "('Foshan', 0.18181818181818182, 12, 66, 2020)\n",
      "('Shangrao', 0.18181818181818182, 2, 11, 2020)\n",
      "('Hengyang', 0.17647058823529413, 3, 17, 2020)\n",
      "('Yokohama City', 0.17647058823529413, 3, 17, 2020)\n",
      "('Suzhou', 0.17543859649122806, 10, 57, 2020)\n",
      "('Philadelphia', 0.17391304347826086, 4, 23, 2020)\n",
      "('Las Vegas', 0.1724137931034483, 5, 29, 2020)\n",
      "('Houston', 0.17142857142857143, 6, 35, 2020)\n",
      "('Tokyo', 0.17073170731707318, 14, 82, 2020)\n",
      "('Xiamen', 0.16666666666666666, 7, 42, 2020)\n",
      "('Chongqing', 0.16666666666666666, 7, 42, 2020)\n",
      "('Barcelona', 0.16666666666666666, 3, 18, 2020)\n",
      "('Suwon City', 0.16666666666666666, 4, 24, 2020)\n",
      "('Hangzhou', 0.16666666666666666, 8, 48, 2020)\n",
      "('Chicago', 0.16666666666666666, 4, 24, 2020)\n",
      "('Maoming', 0.16666666666666666, 2, 12, 2020)\n",
      "('Xingtai', 0.16666666666666666, 6, 36, 2020)\n",
      "('Jilin', 0.16666666666666666, 3, 18, 2020)\n",
      "('Luoyang', 0.16666666666666666, 2, 12, 2020)\n",
      "('Handan', 0.16, 8, 50, 2020)\n",
      "('Hefei', 0.16, 4, 25, 2020)\n",
      "('Dongguan', 0.16, 12, 75, 2020)\n",
      "('Wenzhou', 0.15517241379310345, 9, 58, 2020)\n",
      "('München', 0.15384615384615385, 2, 13, 2020)\n",
      "('Taiyuan', 0.15384615384615385, 4, 26, 2020)\n",
      "('Liuzhou', 0.15384615384615385, 2, 13, 2020)\n",
      "('Brasília', 0.15151515151515152, 5, 33, 2020)\n",
      "('Seoul', 0.15060240963855423, 25, 166, 2020)\n",
      "('Shan Tou', 0.14814814814814814, 8, 54, 2020)\n",
      "('Beijing', 0.14767932489451477, 35, 237, 2020)\n",
      "('London', 0.14285714285714285, 6, 42, 2020)\n",
      "('Jieyang', 0.14285714285714285, 2, 14, 2020)\n",
      "('Taizhou', 0.14285714285714285, 4, 28, 2020)\n",
      "('Sydney', 0.1388888888888889, 5, 36, 2020)\n",
      "('Madrid', 0.1388888888888889, 5, 36, 2020)\n",
      "('Shanghai', 0.13157894736842105, 30, 228, 2020)\n",
      "('Dalian', 0.13043478260869565, 3, 23, 2020)\n",
      "('Yongin City', 0.13043478260869565, 3, 23, 2020)\n",
      "('New York', 0.12903225806451613, 8, 62, 2020)\n",
      "('Ordos', 0.125, 2, 16, 2020)\n",
      "('Nanjing', 0.12, 6, 50, 2020)\n",
      "(\"Xi'an\", 0.12, 3, 25, 2020)\n",
      "('Changchun', 0.11904761904761904, 5, 42, 2020)\n",
      "('Duque de Caxias', 0.11764705882352941, 2, 17, 2020)\n",
      "('Tianjin', 0.11594202898550725, 8, 69, 2020)\n",
      "('Incheon Metropolitan City', 0.11428571428571428, 4, 35, 2020)\n",
      "('São Paulo', 0.11363636363636363, 5, 44, 2020)\n",
      "('Huaibei', 0.1111111111111111, 2, 18, 2020)\n",
      "('Shenyang', 0.10714285714285714, 3, 28, 2020)\n",
      "('Fortaleza', 0.10714285714285714, 3, 28, 2020)\n",
      "('Chengdu', 0.10666666666666667, 8, 75, 2020)\n",
      "('Wuhan', 0.10588235294117647, 9, 85, 2020)\n",
      "('null', 0.10227272727272728, 9, 88, 2020)\n",
      "('Baoding', 0.1, 3, 30, 2020)\n",
      "('Harbin', 0.1, 3, 30, 2020)\n",
      "('Guiyang', 0.1, 4, 40, 2020)\n",
      "('Busan', 0.1, 5, 50, 2020)\n",
      "('São Luís', 0.09090909090909091, 2, 22, 2020)\n",
      "('Anyang City', 0.09090909090909091, 1, 11, 2020)\n",
      "('Dandong', 0.09090909090909091, 1, 11, 2020)\n",
      "('Uberlândia', 0.09090909090909091, 1, 11, 2020)\n",
      "('Gwangju', 0.09090909090909091, 1, 11, 2020)\n",
      "('Ganzhou', 0.09090909090909091, 1, 11, 2020)\n",
      "('Ningbo', 0.08695652173913043, 2, 23, 2020)\n",
      "('Jinan', 0.08333333333333333, 2, 24, 2020)\n",
      "('Parauapebas', 0.08333333333333333, 1, 12, 2020)\n",
      "('Bogatynia', 0.08333333333333333, 1, 12, 2020)\n",
      "('Shijiazhuang', 0.07692307692307693, 2, 26, 2020)\n",
      "('Nanchang', 0.07692307692307693, 1, 13, 2020)\n",
      "('Zhangzhou', 0.06818181818181818, 3, 44, 2020)\n",
      "('Salvador', 0.06666666666666667, 3, 45, 2020)\n",
      "('NanNing', 0.06666666666666667, 1, 15, 2020)\n",
      "('Huaihua', 0.06666666666666667, 1, 15, 2020)\n",
      "('Daejeon', 0.058823529411764705, 1, 17, 2020)\n",
      "('Hwaseong City', 0.058823529411764705, 1, 17, 2020)\n",
      "('Baotou', 0.05555555555555555, 1, 18, 2020)\n",
      "('Phoenix', 0.05263157894736842, 1, 19, 2020)\n",
      "('Jiangmen', 0.047619047619047616, 1, 21, 2020)\n",
      "('Quanzhou', 0.045454545454545456, 1, 22, 2020)\n",
      "('Qingdao', 0.045454545454545456, 1, 22, 2020)\n",
      "('Melbourne', 0.04, 1, 25, 2020)\n"
     ]
    }
   ],
   "source": [
    "for row in results[0]:\n",
    "    print(row)"
   ]
  }
 ],
 "metadata": {
  "kernelspec": {
   "display_name": ".venv",
   "language": "python",
   "name": "python3"
  },
  "language_info": {
   "codemirror_mode": {
    "name": "ipython",
    "version": 3
   },
   "file_extension": ".py",
   "mimetype": "text/x-python",
   "name": "python",
   "nbconvert_exporter": "python",
   "pygments_lexer": "ipython3",
   "version": "3.11.3"
  }
 },
 "nbformat": 4,
 "nbformat_minor": 2
}
